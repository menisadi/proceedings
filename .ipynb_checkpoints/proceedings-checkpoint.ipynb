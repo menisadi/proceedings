{
 "cells": [
  {
   "cell_type": "code",
   "execution_count": 1,
   "id": "3609bc2a-1f43-4900-9e55-bb6012539f2f",
   "metadata": {
    "execution": {
     "iopub.execute_input": "2024-01-08T16:47:08.200121Z",
     "iopub.status.busy": "2024-01-08T16:47:08.199332Z",
     "iopub.status.idle": "2024-01-08T16:47:11.404539Z",
     "shell.execute_reply": "2024-01-08T16:47:11.404263Z",
     "shell.execute_reply.started": "2024-01-08T16:47:08.200072Z"
    },
    "tags": []
   },
   "outputs": [],
   "source": [
    "import numpy as np\n",
    "import pandas as pd\n",
    "import seaborn as sns\n",
    "import matplotlib.pyplot as plt\n",
    "sns.set(rc={'figure.figsize':(12,5)})\n",
    "%load_ext autoreload\n",
    "%autoreload 2"
   ]
  },
  {
   "cell_type": "code",
   "execution_count": 8,
   "id": "69f8eaa6-dd3f-4a30-a819-9dc5686824e1",
   "metadata": {
    "execution": {
     "iopub.execute_input": "2024-01-08T16:53:50.848902Z",
     "iopub.status.busy": "2024-01-08T16:53:50.848047Z",
     "iopub.status.idle": "2024-01-08T16:53:50.892760Z",
     "shell.execute_reply": "2024-01-08T16:53:50.891987Z",
     "shell.execute_reply.started": "2024-01-08T16:53:50.848854Z"
    },
    "tags": []
   },
   "outputs": [],
   "source": [
    "import re\n",
    "from fuzzywuzzy import process\n",
    "import pprint"
   ]
  },
  {
   "cell_type": "code",
   "execution_count": 9,
   "id": "c3750b48-4e7f-4b5a-aa2a-846579da1fd7",
   "metadata": {
    "execution": {
     "iopub.execute_input": "2024-01-08T16:53:52.734119Z",
     "iopub.status.busy": "2024-01-08T16:53:52.733281Z",
     "iopub.status.idle": "2024-01-08T16:53:56.826552Z",
     "shell.execute_reply": "2024-01-08T16:53:56.825995Z",
     "shell.execute_reply.started": "2024-01-08T16:53:52.734077Z"
    },
    "tags": []
   },
   "outputs": [],
   "source": [
    "df = pd.read_parquet(\"proceedings.parquet\")"
   ]
  },
  {
   "cell_type": "code",
   "execution_count": 10,
   "id": "e81096ce-5bdd-4cd0-9fd1-e566408c8bc9",
   "metadata": {
    "execution": {
     "iopub.execute_input": "2024-01-08T16:53:58.904578Z",
     "iopub.status.busy": "2024-01-08T16:53:58.903405Z",
     "iopub.status.idle": "2024-01-08T16:53:58.938794Z",
     "shell.execute_reply": "2024-01-08T16:53:58.938010Z",
     "shell.execute_reply.started": "2024-01-08T16:53:58.904527Z"
    },
    "tags": []
   },
   "outputs": [],
   "source": [
    "df[\"volume\"] = df[\"conference\"].apply(lambda x: x.split(\":\")[0].split(\" \")[1])"
   ]
  },
  {
   "cell_type": "code",
   "execution_count": 11,
   "id": "332e794d-a58a-445c-9b09-5123d2bcb314",
   "metadata": {
    "execution": {
     "iopub.execute_input": "2024-01-08T16:53:59.508582Z",
     "iopub.status.busy": "2024-01-08T16:53:59.507627Z",
     "iopub.status.idle": "2024-01-08T16:53:59.579185Z",
     "shell.execute_reply": "2024-01-08T16:53:59.578822Z",
     "shell.execute_reply.started": "2024-01-08T16:53:59.508503Z"
    },
    "tags": []
   },
   "outputs": [],
   "source": [
    "df['year'] = df['conference'].apply(lambda x: re.search(r'(19|20)\\d{2}', str(x)).group(0) if re.search(r'(19|20)\\d{2}', str(x)) else None)"
   ]
  },
  {
   "cell_type": "code",
   "execution_count": 12,
   "id": "73beb9d7-92cf-4f92-89c6-55327ac8c292",
   "metadata": {
    "execution": {
     "iopub.execute_input": "2024-01-08T16:53:59.911085Z",
     "iopub.status.busy": "2024-01-08T16:53:59.910056Z",
     "iopub.status.idle": "2024-01-08T16:53:59.940388Z",
     "shell.execute_reply": "2024-01-08T16:53:59.940012Z",
     "shell.execute_reply.started": "2024-01-08T16:53:59.911053Z"
    },
    "tags": []
   },
   "outputs": [
    {
     "data": {
      "text/plain": [
       "year\n",
       "2022    3229\n",
       "2023    3106\n",
       "2021    2834\n",
       "2020    2407\n",
       "2019    1840\n",
       "2018    1255\n",
       "2017     948\n",
       "2016     708\n",
       "2014     574\n",
       "2015     545\n",
       "2013     438\n",
       "2012     284\n",
       "2011     221\n",
       "2010     201\n",
       "2009     111\n",
       "2007      86\n",
       "2008      41\n",
       "2006       5\n",
       "Name: count, dtype: int64"
      ]
     },
     "execution_count": 12,
     "metadata": {},
     "output_type": "execute_result"
    }
   ],
   "source": [
    "df['year'].value_counts()"
   ]
  },
  {
   "cell_type": "code",
   "execution_count": 13,
   "id": "991613ae-809c-47d3-9e94-d77712a8e8b8",
   "metadata": {
    "execution": {
     "iopub.execute_input": "2024-01-08T16:54:00.828868Z",
     "iopub.status.busy": "2024-01-08T16:54:00.827936Z",
     "iopub.status.idle": "2024-01-08T16:54:00.867150Z",
     "shell.execute_reply": "2024-01-08T16:54:00.865203Z",
     "shell.execute_reply.started": "2024-01-08T16:54:00.828811Z"
    },
    "tags": []
   },
   "outputs": [],
   "source": [
    "df[\"conference_main\"] = df[\"conference\"].apply(lambda x: x.split(\":\")[1].split(',')[0])"
   ]
  },
  {
   "cell_type": "code",
   "execution_count": 14,
   "id": "ef4fc78c-be2d-455c-9b0c-fe7b11506c40",
   "metadata": {
    "execution": {
     "iopub.execute_input": "2024-01-08T16:54:01.027118Z",
     "iopub.status.busy": "2024-01-08T16:54:01.026300Z",
     "iopub.status.idle": "2024-01-08T16:54:01.054282Z",
     "shell.execute_reply": "2024-01-08T16:54:01.053766Z",
     "shell.execute_reply.started": "2024-01-08T16:54:01.027049Z"
    },
    "tags": []
   },
   "outputs": [
    {
     "data": {
      "text/plain": [
       "array(['Volume 117: Algorithmic Learning Theory, , San Diego, California, USA',\n",
       "       'Volume 201: International Conference on Algorithmic Learning Theory, , Singapore',\n",
       "       'Volume 209: Conference on Health, Inference, and Learning, , 415 Main Street, Cambridge, MA USA 02142'],\n",
       "      dtype=object)"
      ]
     },
     "execution_count": 14,
     "metadata": {},
     "output_type": "execute_result"
    }
   ],
   "source": [
    "df.loc[df['year'].isna(), 'conference'].unique()"
   ]
  },
  {
   "cell_type": "code",
   "execution_count": 15,
   "id": "8a9bec76-386e-4395-bcef-2ab83a137ef1",
   "metadata": {
    "execution": {
     "iopub.execute_input": "2024-01-08T16:54:01.220681Z",
     "iopub.status.busy": "2024-01-08T16:54:01.220037Z",
     "iopub.status.idle": "2024-01-08T16:54:01.248324Z",
     "shell.execute_reply": "2024-01-08T16:54:01.247670Z",
     "shell.execute_reply.started": "2024-01-08T16:54:01.220613Z"
    },
    "tags": []
   },
   "outputs": [],
   "source": [
    "df.loc[df['volume'] == '117', 'year'] = '2020'"
   ]
  },
  {
   "cell_type": "code",
   "execution_count": 16,
   "id": "0147cce0-996d-43f9-9338-76f89a99e7e1",
   "metadata": {
    "execution": {
     "iopub.execute_input": "2024-01-08T16:54:01.379832Z",
     "iopub.status.busy": "2024-01-08T16:54:01.379026Z",
     "iopub.status.idle": "2024-01-08T16:54:01.416391Z",
     "shell.execute_reply": "2024-01-08T16:54:01.415320Z",
     "shell.execute_reply.started": "2024-01-08T16:54:01.379765Z"
    },
    "tags": []
   },
   "outputs": [],
   "source": [
    "df.loc[df['volume'] == '201', 'year'] = '2023'"
   ]
  },
  {
   "cell_type": "code",
   "execution_count": 17,
   "id": "ceede161-d1aa-4aa0-bd43-7e88bf88fa6f",
   "metadata": {
    "execution": {
     "iopub.execute_input": "2024-01-08T16:54:01.777645Z",
     "iopub.status.busy": "2024-01-08T16:54:01.776947Z",
     "iopub.status.idle": "2024-01-08T16:54:01.803333Z",
     "shell.execute_reply": "2024-01-08T16:54:01.802803Z",
     "shell.execute_reply.started": "2024-01-08T16:54:01.777600Z"
    },
    "tags": []
   },
   "outputs": [],
   "source": [
    "df.loc[df['volume'] == '209', 'year'] = '2023'"
   ]
  },
  {
   "cell_type": "code",
   "execution_count": 18,
   "id": "654d9723-f32d-4eeb-88b7-45689ca5ef25",
   "metadata": {
    "execution": {
     "iopub.execute_input": "2024-01-08T16:54:02.024448Z",
     "iopub.status.busy": "2024-01-08T16:54:02.023670Z",
     "iopub.status.idle": "2024-01-08T16:54:02.048336Z",
     "shell.execute_reply": "2024-01-08T16:54:02.047693Z",
     "shell.execute_reply.started": "2024-01-08T16:54:02.024373Z"
    },
    "tags": []
   },
   "outputs": [],
   "source": [
    "def get_best_match(name, choices):\n",
    "    return process.extractOne(name, choices)"
   ]
  },
  {
   "cell_type": "code",
   "execution_count": 19,
   "id": "c258267d-4941-4d40-a623-4eb27519d4df",
   "metadata": {
    "execution": {
     "iopub.execute_input": "2024-01-08T16:54:02.267262Z",
     "iopub.status.busy": "2024-01-08T16:54:02.266414Z",
     "iopub.status.idle": "2024-01-08T16:54:02.293251Z",
     "shell.execute_reply": "2024-01-08T16:54:02.292722Z",
     "shell.execute_reply.started": "2024-01-08T16:54:02.267186Z"
    },
    "tags": []
   },
   "outputs": [],
   "source": [
    "df['conference_main'] = df['conference_main'].apply(lambda c: c[1:])"
   ]
  },
  {
   "cell_type": "code",
   "execution_count": 20,
   "id": "73df9b1a-610a-4227-a923-e97b3e749895",
   "metadata": {
    "execution": {
     "iopub.execute_input": "2024-01-08T16:54:02.477718Z",
     "iopub.status.busy": "2024-01-08T16:54:02.476736Z",
     "iopub.status.idle": "2024-01-08T16:54:02.502748Z",
     "shell.execute_reply": "2024-01-08T16:54:02.502228Z",
     "shell.execute_reply.started": "2024-01-08T16:54:02.477634Z"
    },
    "tags": []
   },
   "outputs": [],
   "source": [
    "# df['conference_main'].apply(remove_prefix)"
   ]
  },
  {
   "cell_type": "code",
   "execution_count": 21,
   "id": "8a68b926-7576-413c-bf71-7e78e0f14e1d",
   "metadata": {
    "execution": {
     "iopub.execute_input": "2024-01-08T16:54:02.669740Z",
     "iopub.status.busy": "2024-01-08T16:54:02.668935Z",
     "iopub.status.idle": "2024-01-08T16:54:02.796968Z",
     "shell.execute_reply": "2024-01-08T16:54:02.796669Z",
     "shell.execute_reply.started": "2024-01-08T16:54:02.669669Z"
    },
    "tags": []
   },
   "outputs": [],
   "source": [
    "import networkx as nx"
   ]
  },
  {
   "cell_type": "code",
   "execution_count": 22,
   "id": "36d12cc9-3060-43c1-ad4f-5a2469cbe061",
   "metadata": {
    "execution": {
     "iopub.execute_input": "2024-01-08T16:54:02.825100Z",
     "iopub.status.busy": "2024-01-08T16:54:02.824815Z",
     "iopub.status.idle": "2024-01-08T16:54:13.892267Z",
     "shell.execute_reply": "2024-01-08T16:54:13.891871Z",
     "shell.execute_reply.started": "2024-01-08T16:54:02.825085Z"
    },
    "tags": []
   },
   "outputs": [],
   "source": [
    "unique_conferences = set(df['conference_main'])\n",
    "\n",
    "name_mapping = {}\n",
    "names_graph = nx.Graph()\n",
    "names_graph.add_nodes_from(unique_conferences)\n",
    "\n",
    "for conference in unique_conferences:\n",
    "    match, score = get_best_match(conference, unique_conferences - {conference})\n",
    "    if score >= 90:\n",
    "        names_graph.add_edge(conference, match)\n",
    "        # name_mapping[conference] = match"
   ]
  },
  {
   "cell_type": "code",
   "execution_count": 23,
   "id": "9dcdd4aa-2106-4302-b2aa-ab072a473be9",
   "metadata": {
    "execution": {
     "iopub.execute_input": "2024-01-08T16:54:13.893342Z",
     "iopub.status.busy": "2024-01-08T16:54:13.893202Z",
     "iopub.status.idle": "2024-01-08T16:54:13.903611Z",
     "shell.execute_reply": "2024-01-08T16:54:13.903334Z",
     "shell.execute_reply.started": "2024-01-08T16:54:13.893330Z"
    },
    "tags": []
   },
   "outputs": [],
   "source": [
    "for c in nx.connected_components(names_graph):\n",
    "    if len(c) > 1:\n",
    "        target_name = min(c, key=len)\n",
    "        for conference in c:\n",
    "            name_mapping[conference] = target_name"
   ]
  },
  {
   "cell_type": "code",
   "execution_count": 24,
   "id": "f07fd82d-0520-4d0a-b95a-dffd2b4458b0",
   "metadata": {
    "execution": {
     "iopub.execute_input": "2024-01-08T16:54:13.904194Z",
     "iopub.status.busy": "2024-01-08T16:54:13.904103Z",
     "iopub.status.idle": "2024-01-08T16:54:13.914375Z",
     "shell.execute_reply": "2024-01-08T16:54:13.913981Z",
     "shell.execute_reply.started": "2024-01-08T16:54:13.904184Z"
    },
    "tags": []
   },
   "outputs": [
    {
     "name": "stdout",
     "output_type": "stream",
     "text": [
      "International Conference on Algorithmic Learning Theory\n",
      " -> Algorithmic Learning Theory\n",
      "\n",
      "Algorithmic Learning Theory\n",
      " -> Algorithmic Learning Theory\n",
      "\n",
      "Conference on Learning Theory\n",
      " -> Conference on Learning Theory\n",
      "\n",
      "The Thirty Sixth Annual Conference on Learning Theory\n",
      " -> Conference on Learning Theory\n",
      "\n",
      "Conference On Learning Theory\n",
      " -> Conference on Learning Theory\n",
      "\n",
      "Proceedings of the 24th Annual Conference on Learning Theory\n",
      " -> Conference on Learning Theory\n",
      "\n"
     ]
    }
   ],
   "source": [
    "for c1, c2 in name_mapping.items():\n",
    "    if 'learning theory' in c1.lower():\n",
    "        print(f'{c1}\\n -> {c2}\\n')"
   ]
  },
  {
   "cell_type": "code",
   "execution_count": 25,
   "id": "8e91da69-322e-4f2a-8fd2-fe71068b92da",
   "metadata": {
    "execution": {
     "iopub.execute_input": "2024-01-08T16:54:13.917017Z",
     "iopub.status.busy": "2024-01-08T16:54:13.915987Z",
     "iopub.status.idle": "2024-01-08T16:54:13.927345Z",
     "shell.execute_reply": "2024-01-08T16:54:13.927001Z",
     "shell.execute_reply.started": "2024-01-08T16:54:13.917000Z"
    },
    "tags": []
   },
   "outputs": [],
   "source": [
    "# def remove_prefix(name):\n",
    "#     pattern = r'.*?(\\b(?!(with|health)\\b)\\w*th)\\b.*?\\s'\n",
    "#     name = re.sub(pattern, '', name).strip()\n",
    "\n",
    "#     return name"
   ]
  },
  {
   "cell_type": "code",
   "execution_count": 26,
   "id": "d1c66097-ea04-4000-b363-aa4dc05b2573",
   "metadata": {
    "execution": {
     "iopub.execute_input": "2024-01-08T16:54:15.242030Z",
     "iopub.status.busy": "2024-01-08T16:54:15.241449Z",
     "iopub.status.idle": "2024-01-08T16:54:15.268788Z",
     "shell.execute_reply": "2024-01-08T16:54:15.268263Z",
     "shell.execute_reply.started": "2024-01-08T16:54:15.241991Z"
    },
    "tags": []
   },
   "outputs": [],
   "source": [
    "def clean_conference_name(name):\n",
    "    pattern_prefix = r'.*?(\\b(?!(with|health)\\b)\\w*th)\\b.*?\\s'\n",
    "    name = re.sub(pattern_prefix, '', name).strip()\n",
    "    name = re.sub(r'[0-9\\']', '', name)\n",
    "\n",
    "    return name"
   ]
  },
  {
   "cell_type": "code",
   "execution_count": 27,
   "id": "c67c31e4-08a9-40b3-9b11-27595c49c2a3",
   "metadata": {
    "execution": {
     "iopub.execute_input": "2024-01-08T16:54:16.074313Z",
     "iopub.status.busy": "2024-01-08T16:54:16.073376Z",
     "iopub.status.idle": "2024-01-08T16:54:16.543524Z",
     "shell.execute_reply": "2024-01-08T16:54:16.543109Z",
     "shell.execute_reply.started": "2024-01-08T16:54:16.074231Z"
    },
    "tags": []
   },
   "outputs": [],
   "source": [
    "df['conference_main'] = df['conference_main'].map(name_mapping).fillna(df['conference_main']).apply(clean_conference_name)"
   ]
  },
  {
   "cell_type": "code",
   "execution_count": 28,
   "id": "c1f9df64-7100-460a-8842-3fca1f54e84e",
   "metadata": {
    "execution": {
     "iopub.execute_input": "2024-01-08T16:54:16.544350Z",
     "iopub.status.busy": "2024-01-08T16:54:16.544238Z",
     "iopub.status.idle": "2024-01-08T16:54:16.557209Z",
     "shell.execute_reply": "2024-01-08T16:54:16.556897Z",
     "shell.execute_reply.started": "2024-01-08T16:54:16.544339Z"
    },
    "tags": []
   },
   "outputs": [
    {
     "data": {
      "text/plain": [
       "['Conference on Learning Theory', 'Algorithmic Learning Theory']"
      ]
     },
     "execution_count": 28,
     "metadata": {},
     "output_type": "execute_result"
    }
   ],
   "source": [
    "[c for c in df['conference_main'].unique() if 'learning theory' in c.lower()]"
   ]
  },
  {
   "cell_type": "code",
   "execution_count": 29,
   "id": "f577a09d-4bb9-4eb4-9b4a-4e0999373014",
   "metadata": {
    "execution": {
     "iopub.execute_input": "2024-01-08T16:54:17.034630Z",
     "iopub.status.busy": "2024-01-08T16:54:17.034026Z",
     "iopub.status.idle": "2024-01-08T16:54:17.067661Z",
     "shell.execute_reply": "2024-01-08T16:54:17.067115Z",
     "shell.execute_reply.started": "2024-01-08T16:54:17.034593Z"
    },
    "tags": []
   },
   "outputs": [
    {
     "data": {
      "text/plain": [
       "count\n",
       "False    0.619048\n",
       "True     0.380952\n",
       "Name: proportion, dtype: float64"
      ]
     },
     "execution_count": 29,
     "metadata": {},
     "output_type": "execute_result"
    }
   ],
   "source": [
    "(df[['conference_main', 'volume']].drop_duplicates()['conference_main'].value_counts() > 1).value_counts(normalize=True)"
   ]
  },
  {
   "cell_type": "code",
   "execution_count": 30,
   "id": "d2193935-dcec-45c6-bb9f-d9ff7ae5837a",
   "metadata": {
    "execution": {
     "iopub.execute_input": "2024-01-08T16:54:17.600870Z",
     "iopub.status.busy": "2024-01-08T16:54:17.597492Z",
     "iopub.status.idle": "2024-01-08T16:54:17.636355Z",
     "shell.execute_reply": "2024-01-08T16:54:17.635626Z",
     "shell.execute_reply.started": "2024-01-08T16:54:17.600778Z"
    },
    "tags": []
   },
   "outputs": [
    {
     "data": {
      "text/plain": [
       "conference_main\n",
       "The  ACM SIGKDD Workshop on Causal Discovery                                                                                            8\n",
       "Proceedings on \"I Cant Believe Its Not Better!  - Understanding Deep Learning Through Empirical Falsification\" at NeurIPS  Workshops    7\n",
       "nd Workshop on Online Recommender Systems and User Modeling                                                                             7\n",
       "European Conference on Machine Learning and Principles and Practice of Knowledge Discovery in Databases                                 7\n",
       "Causal Analysis Workshop Series                                                                                                         6\n",
       "Artificial Intelligence Diversity                                                                                                       5\n",
       "Workshop on Artificial Intelligence in Affective Computing                                                                              5\n",
       "HEAR                                                                                                                                    5\n",
       "Algorithmic Fairness through the Lens of Causality and Robustness workshop                                                              5\n",
       "Workshop on Algorithmic Fairness through the Lens of Causality and Privacy                                                              5\n",
       "Name: count, dtype: int64"
      ]
     },
     "execution_count": 30,
     "metadata": {},
     "output_type": "execute_result"
    }
   ],
   "source": [
    "df.loc[df['year'].apply(int) > 2018, 'conference_main'].value_counts(normalize=False).tail(10)"
   ]
  },
  {
   "cell_type": "code",
   "execution_count": 31,
   "id": "b21c2c6c-e606-4600-b50e-e8b00e7b6449",
   "metadata": {
    "execution": {
     "iopub.execute_input": "2024-01-08T16:54:18.435308Z",
     "iopub.status.busy": "2024-01-08T16:54:18.434580Z",
     "iopub.status.idle": "2024-01-08T16:54:18.472034Z",
     "shell.execute_reply": "2024-01-08T16:54:18.471532Z",
     "shell.execute_reply.started": "2024-01-08T16:54:18.435236Z"
    },
    "tags": []
   },
   "outputs": [
    {
     "data": {
      "text/html": [
       "<div>\n",
       "<style scoped>\n",
       "    .dataframe tbody tr th:only-of-type {\n",
       "        vertical-align: middle;\n",
       "    }\n",
       "\n",
       "    .dataframe tbody tr th {\n",
       "        vertical-align: top;\n",
       "    }\n",
       "\n",
       "    .dataframe thead th {\n",
       "        text-align: right;\n",
       "    }\n",
       "</style>\n",
       "<table border=\"1\" class=\"dataframe\">\n",
       "  <thead>\n",
       "    <tr style=\"text-align: right;\">\n",
       "      <th></th>\n",
       "      <th>title</th>\n",
       "      <th>authors</th>\n",
       "      <th>conference_main</th>\n",
       "      <th>year</th>\n",
       "      <th>volume</th>\n",
       "    </tr>\n",
       "  </thead>\n",
       "  <tbody>\n",
       "    <tr>\n",
       "      <th>0</th>\n",
       "      <td>Gaussian Process Approximations of Stochastic ...</td>\n",
       "      <td>Cedric Archambeau, Dan Cornford, Manfred Opper...</td>\n",
       "      <td>Gaussian Processes in Practice</td>\n",
       "      <td>2006</td>\n",
       "      <td>1</td>\n",
       "    </tr>\n",
       "    <tr>\n",
       "      <th>1</th>\n",
       "      <td>Multi-class Semi-supervised Learning with the ...</td>\n",
       "      <td>Simon Rogers, Mark Girolami</td>\n",
       "      <td>Gaussian Processes in Practice</td>\n",
       "      <td>2006</td>\n",
       "      <td>1</td>\n",
       "    </tr>\n",
       "    <tr>\n",
       "      <th>2</th>\n",
       "      <td>Learning RoboCup-Keepaway with Kernels</td>\n",
       "      <td>Tobias Jung, Daniel Polani</td>\n",
       "      <td>Gaussian Processes in Practice</td>\n",
       "      <td>2006</td>\n",
       "      <td>1</td>\n",
       "    </tr>\n",
       "    <tr>\n",
       "      <th>3</th>\n",
       "      <td>Salient Point and Scale Detection by Minimum L...</td>\n",
       "      <td>Kim S. Pedersen, Marco Loog, Pieter Dorst</td>\n",
       "      <td>Gaussian Processes in Practice</td>\n",
       "      <td>2006</td>\n",
       "      <td>1</td>\n",
       "    </tr>\n",
       "    <tr>\n",
       "      <th>4</th>\n",
       "      <td>Sparse Log Gaussian Processes via MCMC for Spa...</td>\n",
       "      <td>Jarno Vanhatalo, Aki Vehtari</td>\n",
       "      <td>Gaussian Processes in Practice</td>\n",
       "      <td>2006</td>\n",
       "      <td>1</td>\n",
       "    </tr>\n",
       "    <tr>\n",
       "      <th>...</th>\n",
       "      <td>...</td>\n",
       "      <td>...</td>\n",
       "      <td>...</td>\n",
       "      <td>...</td>\n",
       "      <td>...</td>\n",
       "    </tr>\n",
       "    <tr>\n",
       "      <th>18950</th>\n",
       "      <td>Fisher-Rao and pullback Hilbert cone distances...</td>\n",
       "      <td>Frank Nielsen</td>\n",
       "      <td>Topological</td>\n",
       "      <td>2023</td>\n",
       "      <td>221</td>\n",
       "    </tr>\n",
       "    <tr>\n",
       "      <th>18951</th>\n",
       "      <td>On Explicit Curvature Regularization in Deep G...</td>\n",
       "      <td>Yonghyeon Lee, Frank C. Park</td>\n",
       "      <td>Topological</td>\n",
       "      <td>2023</td>\n",
       "      <td>221</td>\n",
       "    </tr>\n",
       "    <tr>\n",
       "      <th>18952</th>\n",
       "      <td>MASIL: Towards Maximum Separable Class Represe...</td>\n",
       "      <td>Anant Khandelwal</td>\n",
       "      <td>Topological</td>\n",
       "      <td>2023</td>\n",
       "      <td>221</td>\n",
       "    </tr>\n",
       "    <tr>\n",
       "      <th>18953</th>\n",
       "      <td>Topological Feature Selection</td>\n",
       "      <td>Antonio Briola, Tomaso Aste</td>\n",
       "      <td>Topological</td>\n",
       "      <td>2023</td>\n",
       "      <td>221</td>\n",
       "    </tr>\n",
       "    <tr>\n",
       "      <th>18954</th>\n",
       "      <td>Linear Regression on Manifold Structured Data:...</td>\n",
       "      <td>Liangchen Liu, Juncai He, Yen-Hsi Tsai</td>\n",
       "      <td>Topological</td>\n",
       "      <td>2023</td>\n",
       "      <td>221</td>\n",
       "    </tr>\n",
       "  </tbody>\n",
       "</table>\n",
       "<p>18955 rows × 5 columns</p>\n",
       "</div>"
      ],
      "text/plain": [
       "                                                   title  \\\n",
       "0      Gaussian Process Approximations of Stochastic ...   \n",
       "1      Multi-class Semi-supervised Learning with the ...   \n",
       "2                 Learning RoboCup-Keepaway with Kernels   \n",
       "3      Salient Point and Scale Detection by Minimum L...   \n",
       "4      Sparse Log Gaussian Processes via MCMC for Spa...   \n",
       "...                                                  ...   \n",
       "18950  Fisher-Rao and pullback Hilbert cone distances...   \n",
       "18951  On Explicit Curvature Regularization in Deep G...   \n",
       "18952  MASIL: Towards Maximum Separable Class Represe...   \n",
       "18953                      Topological Feature Selection   \n",
       "18954  Linear Regression on Manifold Structured Data:...   \n",
       "\n",
       "                                                 authors  \\\n",
       "0      Cedric Archambeau, Dan Cornford, Manfred Opper...   \n",
       "1                            Simon Rogers, Mark Girolami   \n",
       "2                             Tobias Jung, Daniel Polani   \n",
       "3              Kim S. Pedersen, Marco Loog, Pieter Dorst   \n",
       "4                           Jarno Vanhatalo, Aki Vehtari   \n",
       "...                                                  ...   \n",
       "18950                                      Frank Nielsen   \n",
       "18951                       Yonghyeon Lee, Frank C. Park   \n",
       "18952                                   Anant Khandelwal   \n",
       "18953                        Antonio Briola, Tomaso Aste   \n",
       "18954             Liangchen Liu, Juncai He, Yen-Hsi Tsai   \n",
       "\n",
       "                      conference_main  year volume  \n",
       "0      Gaussian Processes in Practice  2006      1  \n",
       "1      Gaussian Processes in Practice  2006      1  \n",
       "2      Gaussian Processes in Practice  2006      1  \n",
       "3      Gaussian Processes in Practice  2006      1  \n",
       "4      Gaussian Processes in Practice  2006      1  \n",
       "...                               ...   ...    ...  \n",
       "18950                     Topological  2023    221  \n",
       "18951                     Topological  2023    221  \n",
       "18952                     Topological  2023    221  \n",
       "18953                     Topological  2023    221  \n",
       "18954                     Topological  2023    221  \n",
       "\n",
       "[18955 rows x 5 columns]"
      ]
     },
     "execution_count": 31,
     "metadata": {},
     "output_type": "execute_result"
    }
   ],
   "source": [
    "df[['title', 'authors', 'conference_main', 'year', 'volume']]"
   ]
  },
  {
   "cell_type": "code",
   "execution_count": 32,
   "id": "0cf203c2-2e90-4214-a805-71d96fb0c236",
   "metadata": {
    "execution": {
     "iopub.execute_input": "2024-01-08T16:54:19.247591Z",
     "iopub.status.busy": "2024-01-08T16:54:19.246974Z",
     "iopub.status.idle": "2024-01-08T16:54:19.336487Z",
     "shell.execute_reply": "2024-01-08T16:54:19.336018Z",
     "shell.execute_reply.started": "2024-01-08T16:54:19.247545Z"
    },
    "tags": []
   },
   "outputs": [],
   "source": [
    "df[\"authors_list\"] = df[\"authors\"].apply(lambda auths: auths.split(\",\\xa0\"))"
   ]
  },
  {
   "cell_type": "code",
   "execution_count": 33,
   "id": "c5f53cff-91dc-4802-b24a-06b795d08f2f",
   "metadata": {
    "execution": {
     "iopub.execute_input": "2024-01-08T16:54:19.734557Z",
     "iopub.status.busy": "2024-01-08T16:54:19.733964Z",
     "iopub.status.idle": "2024-01-08T16:54:19.761439Z",
     "shell.execute_reply": "2024-01-08T16:54:19.760668Z",
     "shell.execute_reply.started": "2024-01-08T16:54:19.734510Z"
    },
    "tags": []
   },
   "outputs": [],
   "source": [
    "from collections import Counter"
   ]
  },
  {
   "cell_type": "code",
   "execution_count": 34,
   "id": "22503609-8901-4e96-b3c0-df4a1a3da9e7",
   "metadata": {
    "execution": {
     "iopub.execute_input": "2024-01-08T16:54:20.272394Z",
     "iopub.status.busy": "2024-01-08T16:54:20.271806Z",
     "iopub.status.idle": "2024-01-08T16:54:20.309421Z",
     "shell.execute_reply": "2024-01-08T16:54:20.308904Z",
     "shell.execute_reply.started": "2024-01-08T16:54:20.272355Z"
    },
    "tags": []
   },
   "outputs": [],
   "source": [
    "authors_counter = Counter([a for a_list in df[\"authors_list\"].to_list() for a in a_list])"
   ]
  },
  {
   "cell_type": "code",
   "execution_count": 35,
   "id": "fd1d289f-133e-4361-83d1-a83b25ca4396",
   "metadata": {
    "execution": {
     "iopub.execute_input": "2024-01-08T16:54:20.448665Z",
     "iopub.status.busy": "2024-01-08T16:54:20.447848Z",
     "iopub.status.idle": "2024-01-08T16:54:20.478298Z",
     "shell.execute_reply": "2024-01-08T16:54:20.477887Z",
     "shell.execute_reply.started": "2024-01-08T16:54:20.448592Z"
    },
    "tags": []
   },
   "outputs": [
    {
     "data": {
      "text/html": [
       "<div>\n",
       "<style scoped>\n",
       "    .dataframe tbody tr th:only-of-type {\n",
       "        vertical-align: middle;\n",
       "    }\n",
       "\n",
       "    .dataframe tbody tr th {\n",
       "        vertical-align: top;\n",
       "    }\n",
       "\n",
       "    .dataframe thead th {\n",
       "        text-align: right;\n",
       "    }\n",
       "</style>\n",
       "<table border=\"1\" class=\"dataframe\">\n",
       "  <thead>\n",
       "    <tr style=\"text-align: right;\">\n",
       "      <th></th>\n",
       "      <th>0</th>\n",
       "      <th>1</th>\n",
       "    </tr>\n",
       "  </thead>\n",
       "  <tbody>\n",
       "    <tr>\n",
       "      <th>0</th>\n",
       "      <td>Sergey Levine</td>\n",
       "      <td>97</td>\n",
       "    </tr>\n",
       "    <tr>\n",
       "      <th>1</th>\n",
       "      <td>Masashi Sugiyama</td>\n",
       "      <td>90</td>\n",
       "    </tr>\n",
       "    <tr>\n",
       "      <th>2</th>\n",
       "      <td>Quanquan Gu</td>\n",
       "      <td>79</td>\n",
       "    </tr>\n",
       "    <tr>\n",
       "      <th>3</th>\n",
       "      <td>Andreas Krause</td>\n",
       "      <td>79</td>\n",
       "    </tr>\n",
       "    <tr>\n",
       "      <th>4</th>\n",
       "      <td>Bernhard Schölkopf</td>\n",
       "      <td>76</td>\n",
       "    </tr>\n",
       "    <tr>\n",
       "      <th>5</th>\n",
       "      <td>Yoshua Bengio</td>\n",
       "      <td>66</td>\n",
       "    </tr>\n",
       "    <tr>\n",
       "      <th>6</th>\n",
       "      <td>Csaba Szepesvari</td>\n",
       "      <td>63</td>\n",
       "    </tr>\n",
       "    <tr>\n",
       "      <th>7</th>\n",
       "      <td>Pieter Abbeel</td>\n",
       "      <td>62</td>\n",
       "    </tr>\n",
       "    <tr>\n",
       "      <th>8</th>\n",
       "      <td>Shie Mannor</td>\n",
       "      <td>61</td>\n",
       "    </tr>\n",
       "    <tr>\n",
       "      <th>9</th>\n",
       "      <td>Michal Valko</td>\n",
       "      <td>60</td>\n",
       "    </tr>\n",
       "  </tbody>\n",
       "</table>\n",
       "</div>"
      ],
      "text/plain": [
       "                    0   1\n",
       "0       Sergey Levine  97\n",
       "1    Masashi Sugiyama  90\n",
       "2         Quanquan Gu  79\n",
       "3      Andreas Krause  79\n",
       "4  Bernhard Schölkopf  76\n",
       "5       Yoshua Bengio  66\n",
       "6    Csaba Szepesvari  63\n",
       "7       Pieter Abbeel  62\n",
       "8         Shie Mannor  61\n",
       "9        Michal Valko  60"
      ]
     },
     "execution_count": 35,
     "metadata": {},
     "output_type": "execute_result"
    }
   ],
   "source": [
    "pd.DataFrame(authors_counter.most_common(10))"
   ]
  },
  {
   "cell_type": "code",
   "execution_count": 36,
   "id": "0750a291-b7b2-4a76-8605-ab333536d518",
   "metadata": {
    "execution": {
     "iopub.execute_input": "2024-01-08T16:54:22.884204Z",
     "iopub.status.busy": "2024-01-08T16:54:22.883613Z",
     "iopub.status.idle": "2024-01-08T16:54:22.950336Z",
     "shell.execute_reply": "2024-01-08T16:54:22.949950Z",
     "shell.execute_reply.started": "2024-01-08T16:54:22.884163Z"
    },
    "tags": []
   },
   "outputs": [
    {
     "data": {
      "text/plain": [
       "for         6419\n",
       "learning    4933\n",
       "of          3809\n",
       "with        3511\n",
       "and         3349\n",
       "in          2717\n",
       "a           2228\n",
       "the         2154\n",
       "on          1342\n",
       "neural      1243\n",
       "Name: count, dtype: int64"
      ]
     },
     "execution_count": 36,
     "metadata": {},
     "output_type": "execute_result"
    }
   ],
   "source": [
    "pd.Series(\" \".join(df[\"title\"].values.flatten()).lower().split(\" \")).value_counts().head(10)"
   ]
  },
  {
   "cell_type": "code",
   "execution_count": 37,
   "id": "86f16228-620d-4df0-9b1b-f573a3dc8454",
   "metadata": {
    "execution": {
     "iopub.execute_input": "2024-01-08T17:05:54.884242Z",
     "iopub.status.busy": "2024-01-08T17:05:54.882512Z",
     "iopub.status.idle": "2024-01-08T17:05:56.226966Z",
     "shell.execute_reply": "2024-01-08T17:05:56.226635Z",
     "shell.execute_reply.started": "2024-01-08T17:05:54.884169Z"
    }
   },
   "outputs": [],
   "source": [
    "from nltk.corpus import stopwords \n",
    "from nltk.tokenize import wordpunct_tokenize"
   ]
  },
  {
   "cell_type": "code",
   "execution_count": 53,
   "id": "6d8c97b0-5f9b-4f9c-bb48-81bfe7033f2e",
   "metadata": {
    "execution": {
     "iopub.execute_input": "2024-01-08T17:10:22.116426Z",
     "iopub.status.busy": "2024-01-08T17:10:22.115204Z",
     "iopub.status.idle": "2024-01-08T17:10:22.198378Z",
     "shell.execute_reply": "2024-01-08T17:10:22.197974Z",
     "shell.execute_reply.started": "2024-01-08T17:10:22.116360Z"
    }
   },
   "outputs": [],
   "source": [
    "all_titles = \" \".join(df[\"title\"].values.flatten()).lower().split(\" \")"
   ]
  },
  {
   "cell_type": "code",
   "execution_count": 57,
   "id": "2f899c66-5ca7-4d6a-9efa-b3361fe2620d",
   "metadata": {
    "execution": {
     "iopub.execute_input": "2024-01-08T17:37:27.767590Z",
     "iopub.status.busy": "2024-01-08T17:37:27.766099Z",
     "iopub.status.idle": "2024-01-08T17:37:35.414351Z",
     "shell.execute_reply": "2024-01-08T17:37:35.413997Z",
     "shell.execute_reply.started": "2024-01-08T17:37:27.767516Z"
    }
   },
   "outputs": [],
   "source": [
    "all_titles_filtered = [w for w in all_titles if w not in stopwords.words(\"english\")]"
   ]
  },
  {
   "cell_type": "code",
   "execution_count": 98,
   "id": "0f16d2fd-b518-4ca6-9830-fa010d52a43f",
   "metadata": {
    "execution": {
     "iopub.execute_input": "2024-01-08T17:53:10.265932Z",
     "iopub.status.busy": "2024-01-08T17:53:10.265027Z",
     "iopub.status.idle": "2024-01-08T17:53:10.316095Z",
     "shell.execute_reply": "2024-01-08T17:53:10.314825Z",
     "shell.execute_reply.started": "2024-01-08T17:53:10.265824Z"
    }
   },
   "outputs": [
    {
     "data": {
      "text/plain": [
       "learning         4933\n",
       "neural           1243\n",
       "networks         1197\n",
       "models           1179\n",
       "via              1153\n",
       "data              954\n",
       "deep              951\n",
       "optimization      914\n",
       "reinforcement     848\n",
       "using             825\n",
       "stochastic        700\n",
       "bayesian          695\n",
       "model             626\n",
       "linear            615\n",
       "inference         598\n",
       "efficient         579\n",
       "online            575\n",
       "estimation        567\n",
       "robust            532\n",
       "graph             526\n",
       "Name: count, dtype: int64"
      ]
     },
     "execution_count": 98,
     "metadata": {},
     "output_type": "execute_result"
    }
   ],
   "source": [
    "pd.Series(all_titles_filtered).value_counts(normalize=False).head(20)"
   ]
  },
  {
   "cell_type": "code",
   "execution_count": 92,
   "id": "b8b60672-2844-4722-8301-9f97f38db376",
   "metadata": {
    "execution": {
     "iopub.execute_input": "2024-01-08T17:51:40.066571Z",
     "iopub.status.busy": "2024-01-08T17:51:40.065842Z",
     "iopub.status.idle": "2024-01-08T17:51:40.106567Z",
     "shell.execute_reply": "2024-01-08T17:51:40.106042Z",
     "shell.execute_reply.started": "2024-01-08T17:51:40.066516Z"
    }
   },
   "outputs": [],
   "source": [
    "is_it_causal = df[\"title\"].apply(lambda title: 'caus' in title.lower())\n",
    "most_published_causal = df.loc[is_it_causal, 'authors_list'].explode().value_counts().head(15)"
   ]
  },
  {
   "cell_type": "code",
   "execution_count": 99,
   "id": "d65925a2-5e02-4c99-b27b-8efe5b1984d6",
   "metadata": {
    "execution": {
     "iopub.execute_input": "2024-01-08T17:53:53.704937Z",
     "iopub.status.busy": "2024-01-08T17:53:53.703275Z",
     "iopub.status.idle": "2024-01-08T17:53:53.745693Z",
     "shell.execute_reply": "2024-01-08T17:53:53.745216Z",
     "shell.execute_reply.started": "2024-01-08T17:53:53.704867Z"
    }
   },
   "outputs": [
    {
     "data": {
      "text/plain": [
       "authors_list\n",
       "Bernhard Schölkopf    24\n",
       "Dominik Janzing       22\n",
       "Kun Zhang             13\n",
       "Shohei Shimizu        10\n",
       "Elias Bareinboim      10\n",
       "Caroline Uhler        10\n",
       "Peter Spirtes          9\n",
       "Judea Pearl            7\n",
       "Negar Kiyavash         7\n",
       "Chandler Squires       6\n",
       "Ricardo Silva          6\n",
       "Tom Claassen           6\n",
       "Limor Gultchin         5\n",
       "Matt Kusner            5\n",
       "Patrick Bloebaum       5\n",
       "Name: count, dtype: int64"
      ]
     },
     "execution_count": 99,
     "metadata": {},
     "output_type": "execute_result"
    }
   ],
   "source": [
    "most_published_causal"
   ]
  },
  {
   "cell_type": "code",
   "execution_count": 93,
   "id": "83bd8223-1518-43a8-b62b-6f24fdc3dad8",
   "metadata": {
    "execution": {
     "iopub.execute_input": "2024-01-08T17:51:40.286086Z",
     "iopub.status.busy": "2024-01-08T17:51:40.281097Z",
     "iopub.status.idle": "2024-01-08T17:51:40.508087Z",
     "shell.execute_reply": "2024-01-08T17:51:40.507396Z",
     "shell.execute_reply.started": "2024-01-08T17:51:40.286030Z"
    }
   },
   "outputs": [
    {
     "data": {
      "text/plain": [
       "Text(0.5, 1.0, 'Causal')"
      ]
     },
     "execution_count": 93,
     "metadata": {},
     "output_type": "execute_result"
    },
    {
     "data": {
      "image/png": "[encoded data removed]",
      "text/plain": [
       "<Figure size 1200x500 with 1 Axes>"
      ]
     },
     "metadata": {},
     "output_type": "display_data"
    }
   ],
   "source": [
    "most_published_causal.plot.bar()\n",
    "plt.xticks(rotation=45)\n",
    "plt.title(\"Causal\")"
   ]
  },
  {
   "cell_type": "code",
   "execution_count": 90,
   "id": "e08a799a-604c-4b6c-91d1-b0c825f35b93",
   "metadata": {
    "execution": {
     "iopub.execute_input": "2024-01-08T17:51:21.843143Z",
     "iopub.status.busy": "2024-01-08T17:51:21.841721Z",
     "iopub.status.idle": "2024-01-08T17:51:21.883105Z",
     "shell.execute_reply": "2024-01-08T17:51:21.882047Z",
     "shell.execute_reply.started": "2024-01-08T17:51:21.843084Z"
    }
   },
   "outputs": [],
   "source": [
    "is_it_privacy = df[\"title\"].apply(lambda title: 'priva' in title.lower())\n",
    "most_published_privacy = df.loc[is_it_privacy, 'authors_list'].explode().value_counts().head(15)"
   ]
  },
  {
   "cell_type": "code",
   "execution_count": 91,
   "id": "5dea15d2-b13b-4bba-8c39-b817aa78d712",
   "metadata": {
    "execution": {
     "iopub.execute_input": "2024-01-08T17:51:22.115435Z",
     "iopub.status.busy": "2024-01-08T17:51:22.114730Z",
     "iopub.status.idle": "2024-01-08T17:51:22.319950Z",
     "shell.execute_reply": "2024-01-08T17:51:22.319678Z",
     "shell.execute_reply.started": "2024-01-08T17:51:22.115370Z"
    }
   },
   "outputs": [
    {
     "data": {
      "text/plain": [
       "Text(0.5, 1.0, 'Privacy')"
      ]
     },
     "execution_count": 91,
     "metadata": {},
     "output_type": "execute_result"
    },
    {
     "data": {
      "image/png": "[encoded data removed]",
      "text/plain": [
       "<Figure size 1200x500 with 1 Axes>"
      ]
     },
     "metadata": {},
     "output_type": "display_data"
    }
   ],
   "source": [
    "most_published_privacy.plot.bar()\n",
    "plt.xticks(rotation=45)\n",
    "plt.title(\"Privacy\")"
   ]
  },
  {
   "cell_type": "code",
   "execution_count": 96,
   "id": "9fda12a2-f8cb-45ad-9bcc-0eca8f3ec3cb",
   "metadata": {
    "execution": {
     "iopub.execute_input": "2024-01-08T17:52:10.288415Z",
     "iopub.status.busy": "2024-01-08T17:52:10.287856Z",
     "iopub.status.idle": "2024-01-08T17:52:10.320459Z",
     "shell.execute_reply": "2024-01-08T17:52:10.319941Z",
     "shell.execute_reply.started": "2024-01-08T17:52:10.288369Z"
    }
   },
   "outputs": [
    {
     "data": {
      "text/plain": [
       "conference_main\n",
       "International Conference on Machine Learning    8361\n",
       "Artificial Intelligence and Statistics          3653\n",
       "Conference on Learning Theory                   1246\n",
       "Uncertainty in Artificial Intelligence           938\n",
       "Conference on Robot Learning                     762\n",
       "Asian Conference on Machine Learning             633\n",
       "Learning for Dynamics and Control                410\n",
       "Machine Learning for Health                      359\n",
       "Algorithmic Learning Theory                      284\n",
       "Medical Imaging with Deep Learning               273\n",
       "Name: count, dtype: int64"
      ]
     },
     "execution_count": 96,
     "metadata": {},
     "output_type": "execute_result"
    }
   ],
   "source": [
    "df['conference_main'].value_counts().head(10)"
   ]
  },
  {
   "cell_type": "code",
   "execution_count": null,
   "id": "f831b78f-a242-4a8e-b964-75c074fbc40b",
   "metadata": {},
   "outputs": [],
   "source": []
  }
 ],
 "metadata": {
  "kernelspec": {
   "display_name": "Python 3 (ipykernel)",
   "language": "python",
   "name": "python3"
  },
  "language_info": {
   "codemirror_mode": {
    "name": "ipython",
    "version": 3
   },
   "file_extension": ".py",
   "mimetype": "text/x-python",
   "name": "python",
   "nbconvert_exporter": "python",
   "pygments_lexer": "ipython3",
   "version": "3.10.10"
  }
 },
 "nbformat": 4,
 "nbformat_minor": 5
}
