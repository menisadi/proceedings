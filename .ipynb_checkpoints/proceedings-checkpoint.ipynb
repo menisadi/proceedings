{
 "cells": [
  {
   "cell_type": "code",
   "execution_count": 1,
   "id": "3609bc2a-1f43-4900-9e55-bb6012539f2f",
   "metadata": {
    "execution": {
     "iopub.execute_input": "2024-01-08T06:41:45.583825Z",
     "iopub.status.busy": "2024-01-08T06:41:45.582925Z",
     "iopub.status.idle": "2024-01-08T06:41:46.776897Z",
     "shell.execute_reply": "2024-01-08T06:41:46.776521Z",
     "shell.execute_reply.started": "2024-01-08T06:41:45.583758Z"
    },
    "tags": []
   },
   "outputs": [],
   "source": [
    "import numpy as np\n",
    "import pandas as pd\n",
    "import seaborn as sns\n",
    "import matplotlib.pyplot as plt\n",
    "sns.set(rc={'figure.figsize':(12,5)})\n",
    "%load_ext autoreload\n",
    "%autoreload 2"
   ]
  },
  {
   "cell_type": "code",
   "execution_count": 2,
   "id": "69f8eaa6-dd3f-4a30-a819-9dc5686824e1",
   "metadata": {
    "execution": {
     "iopub.execute_input": "2024-01-08T06:41:46.777758Z",
     "iopub.status.busy": "2024-01-08T06:41:46.777632Z",
     "iopub.status.idle": "2024-01-08T06:41:50.098968Z",
     "shell.execute_reply": "2024-01-08T06:41:50.097949Z",
     "shell.execute_reply.started": "2024-01-08T06:41:46.777749Z"
    },
    "tags": []
   },
   "outputs": [],
   "source": [
    "import re\n",
    "from fuzzywuzzy import process\n",
    "import pprint"
   ]
  },
  {
   "cell_type": "code",
   "execution_count": 3,
   "id": "c3750b48-4e7f-4b5a-aa2a-846579da1fd7",
   "metadata": {
    "execution": {
     "iopub.execute_input": "2024-01-08T06:41:53.489628Z",
     "iopub.status.busy": "2024-01-08T06:41:53.488746Z",
     "iopub.status.idle": "2024-01-08T06:41:53.692617Z",
     "shell.execute_reply": "2024-01-08T06:41:53.692344Z",
     "shell.execute_reply.started": "2024-01-08T06:41:53.489555Z"
    },
    "tags": []
   },
   "outputs": [],
   "source": [
    "df = pd.read_parquet(\"proceedings.parquet\")"
   ]
  },
  {
   "cell_type": "code",
   "execution_count": 4,
   "id": "e81096ce-5bdd-4cd0-9fd1-e566408c8bc9",
   "metadata": {
    "execution": {
     "iopub.execute_input": "2024-01-08T06:41:54.236675Z",
     "iopub.status.busy": "2024-01-08T06:41:54.236148Z",
     "iopub.status.idle": "2024-01-08T06:41:54.274387Z",
     "shell.execute_reply": "2024-01-08T06:41:54.273892Z",
     "shell.execute_reply.started": "2024-01-08T06:41:54.236647Z"
    },
    "tags": []
   },
   "outputs": [],
   "source": [
    "df[\"volume\"] = df[\"conference\"].apply(lambda x: x.split(\":\")[0].split(\" \")[1])"
   ]
  },
  {
   "cell_type": "code",
   "execution_count": 5,
   "id": "332e794d-a58a-445c-9b09-5123d2bcb314",
   "metadata": {
    "execution": {
     "iopub.execute_input": "2024-01-08T06:41:54.518324Z",
     "iopub.status.busy": "2024-01-08T06:41:54.517515Z",
     "iopub.status.idle": "2024-01-08T06:41:54.593704Z",
     "shell.execute_reply": "2024-01-08T06:41:54.593330Z",
     "shell.execute_reply.started": "2024-01-08T06:41:54.518264Z"
    },
    "tags": []
   },
   "outputs": [],
   "source": [
    "df['year'] = df['conference'].apply(lambda x: re.search(r'(19|20)\\d{2}', str(x)).group(0) if re.search(r'(19|20)\\d{2}', str(x)) else None)"
   ]
  },
  {
   "cell_type": "code",
   "execution_count": 6,
   "id": "73beb9d7-92cf-4f92-89c6-55327ac8c292",
   "metadata": {
    "execution": {
     "iopub.execute_input": "2024-01-08T06:41:54.713093Z",
     "iopub.status.busy": "2024-01-08T06:41:54.709491Z",
     "iopub.status.idle": "2024-01-08T06:41:54.736189Z",
     "shell.execute_reply": "2024-01-08T06:41:54.735661Z",
     "shell.execute_reply.started": "2024-01-08T06:41:54.713040Z"
    },
    "tags": []
   },
   "outputs": [
    {
     "data": {
      "text/plain": [
       "year\n",
       "2022    3229\n",
       "2023    3106\n",
       "2021    2834\n",
       "2020    2407\n",
       "2019    1840\n",
       "2018    1255\n",
       "2017     948\n",
       "2016     708\n",
       "2014     574\n",
       "2015     545\n",
       "2013     438\n",
       "2012     284\n",
       "2011     221\n",
       "2010     201\n",
       "2009     111\n",
       "2007      86\n",
       "2008      41\n",
       "2006       5\n",
       "Name: count, dtype: int64"
      ]
     },
     "execution_count": 6,
     "metadata": {},
     "output_type": "execute_result"
    }
   ],
   "source": [
    "df['year'].value_counts()"
   ]
  },
  {
   "cell_type": "code",
   "execution_count": 7,
   "id": "991613ae-809c-47d3-9e94-d77712a8e8b8",
   "metadata": {
    "execution": {
     "iopub.execute_input": "2024-01-08T06:41:54.863008Z",
     "iopub.status.busy": "2024-01-08T06:41:54.862309Z",
     "iopub.status.idle": "2024-01-08T06:41:54.903640Z",
     "shell.execute_reply": "2024-01-08T06:41:54.903269Z",
     "shell.execute_reply.started": "2024-01-08T06:41:54.862951Z"
    },
    "tags": []
   },
   "outputs": [],
   "source": [
    "df[\"conference_main\"] = df[\"conference\"].apply(lambda x: x.split(\":\")[1].split(',')[0])"
   ]
  },
  {
   "cell_type": "code",
   "execution_count": 8,
   "id": "ef4fc78c-be2d-455c-9b0c-fe7b11506c40",
   "metadata": {
    "execution": {
     "iopub.execute_input": "2024-01-08T06:41:55.048547Z",
     "iopub.status.busy": "2024-01-08T06:41:55.047678Z",
     "iopub.status.idle": "2024-01-08T06:41:55.087413Z",
     "shell.execute_reply": "2024-01-08T06:41:55.084692Z",
     "shell.execute_reply.started": "2024-01-08T06:41:55.048484Z"
    },
    "tags": []
   },
   "outputs": [
    {
     "data": {
      "text/plain": [
       "array(['Volume 117: Algorithmic Learning Theory, , San Diego, California, USA',\n",
       "       'Volume 201: International Conference on Algorithmic Learning Theory, , Singapore',\n",
       "       'Volume 209: Conference on Health, Inference, and Learning, , 415 Main Street, Cambridge, MA USA 02142'],\n",
       "      dtype=object)"
      ]
     },
     "execution_count": 8,
     "metadata": {},
     "output_type": "execute_result"
    }
   ],
   "source": [
    "df.loc[df['year'].isna(), 'conference'].unique()"
   ]
  },
  {
   "cell_type": "code",
   "execution_count": 9,
   "id": "8a9bec76-386e-4395-bcef-2ab83a137ef1",
   "metadata": {
    "execution": {
     "iopub.execute_input": "2024-01-08T06:41:55.235781Z",
     "iopub.status.busy": "2024-01-08T06:41:55.235049Z",
     "iopub.status.idle": "2024-01-08T06:41:55.264281Z",
     "shell.execute_reply": "2024-01-08T06:41:55.263571Z",
     "shell.execute_reply.started": "2024-01-08T06:41:55.235725Z"
    },
    "tags": []
   },
   "outputs": [],
   "source": [
    "df.loc[df['volume'] == '117', 'year'] = '2020'"
   ]
  },
  {
   "cell_type": "code",
   "execution_count": 10,
   "id": "0147cce0-996d-43f9-9338-76f89a99e7e1",
   "metadata": {
    "execution": {
     "iopub.execute_input": "2024-01-08T06:41:55.415717Z",
     "iopub.status.busy": "2024-01-08T06:41:55.414962Z",
     "iopub.status.idle": "2024-01-08T06:41:55.442855Z",
     "shell.execute_reply": "2024-01-08T06:41:55.442158Z",
     "shell.execute_reply.started": "2024-01-08T06:41:55.415664Z"
    },
    "tags": []
   },
   "outputs": [],
   "source": [
    "df.loc[df['volume'] == '201', 'year'] = '2023'"
   ]
  },
  {
   "cell_type": "code",
   "execution_count": 11,
   "id": "ceede161-d1aa-4aa0-bd43-7e88bf88fa6f",
   "metadata": {
    "execution": {
     "iopub.execute_input": "2024-01-08T06:41:55.588379Z",
     "iopub.status.busy": "2024-01-08T06:41:55.587498Z",
     "iopub.status.idle": "2024-01-08T06:41:55.614645Z",
     "shell.execute_reply": "2024-01-08T06:41:55.614131Z",
     "shell.execute_reply.started": "2024-01-08T06:41:55.588331Z"
    },
    "tags": []
   },
   "outputs": [],
   "source": [
    "df.loc[df['volume'] == '209', 'year'] = '2023'"
   ]
  },
  {
   "cell_type": "code",
   "execution_count": 12,
   "id": "654d9723-f32d-4eeb-88b7-45689ca5ef25",
   "metadata": {
    "execution": {
     "iopub.execute_input": "2024-01-08T06:41:55.737485Z",
     "iopub.status.busy": "2024-01-08T06:41:55.736306Z",
     "iopub.status.idle": "2024-01-08T06:41:55.762600Z",
     "shell.execute_reply": "2024-01-08T06:41:55.762046Z",
     "shell.execute_reply.started": "2024-01-08T06:41:55.737436Z"
    },
    "tags": []
   },
   "outputs": [],
   "source": [
    "def get_best_match(name, choices):\n",
    "    return process.extractOne(name, choices)"
   ]
  },
  {
   "cell_type": "code",
   "execution_count": 13,
   "id": "c258267d-4941-4d40-a623-4eb27519d4df",
   "metadata": {
    "execution": {
     "iopub.execute_input": "2024-01-08T06:41:55.964029Z",
     "iopub.status.busy": "2024-01-08T06:41:55.963518Z",
     "iopub.status.idle": "2024-01-08T06:41:55.996095Z",
     "shell.execute_reply": "2024-01-08T06:41:55.995630Z",
     "shell.execute_reply.started": "2024-01-08T06:41:55.963994Z"
    },
    "tags": []
   },
   "outputs": [],
   "source": [
    "df['conference_main'] = df['conference_main'].apply(lambda c: c[1:])"
   ]
  },
  {
   "cell_type": "code",
   "execution_count": 14,
   "id": "73df9b1a-610a-4227-a923-e97b3e749895",
   "metadata": {
    "execution": {
     "iopub.execute_input": "2024-01-08T06:41:56.200217Z",
     "iopub.status.busy": "2024-01-08T06:41:56.198771Z",
     "iopub.status.idle": "2024-01-08T06:41:56.226774Z",
     "shell.execute_reply": "2024-01-08T06:41:56.226180Z",
     "shell.execute_reply.started": "2024-01-08T06:41:56.200144Z"
    },
    "tags": []
   },
   "outputs": [],
   "source": [
    "# df['conference_main'].apply(remove_prefix)"
   ]
  },
  {
   "cell_type": "code",
   "execution_count": 15,
   "id": "8a68b926-7576-413c-bf71-7e78e0f14e1d",
   "metadata": {
    "execution": {
     "iopub.execute_input": "2024-01-08T06:41:56.347269Z",
     "iopub.status.busy": "2024-01-08T06:41:56.346536Z",
     "iopub.status.idle": "2024-01-08T06:41:56.452604Z",
     "shell.execute_reply": "2024-01-08T06:41:56.452330Z",
     "shell.execute_reply.started": "2024-01-08T06:41:56.347217Z"
    },
    "tags": []
   },
   "outputs": [],
   "source": [
    "import networkx as nx"
   ]
  },
  {
   "cell_type": "code",
   "execution_count": 16,
   "id": "36d12cc9-3060-43c1-ad4f-5a2469cbe061",
   "metadata": {
    "execution": {
     "iopub.execute_input": "2024-01-08T06:41:56.507643Z",
     "iopub.status.busy": "2024-01-08T06:41:56.507405Z",
     "iopub.status.idle": "2024-01-08T06:41:57.065880Z",
     "shell.execute_reply": "2024-01-08T06:41:57.065514Z",
     "shell.execute_reply.started": "2024-01-08T06:41:56.507627Z"
    },
    "tags": []
   },
   "outputs": [],
   "source": [
    "unique_conferences = set(df['conference_main'])\n",
    "\n",
    "name_mapping = {}\n",
    "names_graph = nx.Graph()\n",
    "names_graph.add_nodes_from(unique_conferences)\n",
    "\n",
    "for conference in unique_conferences:\n",
    "    match, score = get_best_match(conference, unique_conferences - {conference})\n",
    "    if score >= 90:\n",
    "        names_graph.add_edge(conference, match)\n",
    "        # name_mapping[conference] = match"
   ]
  },
  {
   "cell_type": "code",
   "execution_count": 17,
   "id": "9dcdd4aa-2106-4302-b2aa-ab072a473be9",
   "metadata": {
    "execution": {
     "iopub.execute_input": "2024-01-08T06:41:57.066736Z",
     "iopub.status.busy": "2024-01-08T06:41:57.066626Z",
     "iopub.status.idle": "2024-01-08T06:41:57.080260Z",
     "shell.execute_reply": "2024-01-08T06:41:57.079823Z",
     "shell.execute_reply.started": "2024-01-08T06:41:57.066726Z"
    },
    "tags": []
   },
   "outputs": [],
   "source": [
    "for c in nx.connected_components(names_graph):\n",
    "    if len(c) > 1:\n",
    "        target_name = min(c, key=len)\n",
    "        for conference in c:\n",
    "            name_mapping[conference] = target_name"
   ]
  },
  {
   "cell_type": "code",
   "execution_count": 18,
   "id": "f07fd82d-0520-4d0a-b95a-dffd2b4458b0",
   "metadata": {
    "execution": {
     "iopub.execute_input": "2024-01-08T06:41:57.081081Z",
     "iopub.status.busy": "2024-01-08T06:41:57.080958Z",
     "iopub.status.idle": "2024-01-08T06:41:57.094391Z",
     "shell.execute_reply": "2024-01-08T06:41:57.094048Z",
     "shell.execute_reply.started": "2024-01-08T06:41:57.081071Z"
    },
    "tags": []
   },
   "outputs": [
    {
     "name": "stdout",
     "output_type": "stream",
     "text": [
      "Algorithmic Learning Theory\n",
      " -> Algorithmic Learning Theory\n",
      "\n",
      "International Conference on Algorithmic Learning Theory\n",
      " -> Algorithmic Learning Theory\n",
      "\n",
      "Conference On Learning Theory\n",
      " -> Conference On Learning Theory\n",
      "\n",
      "Conference on Learning Theory\n",
      " -> Conference On Learning Theory\n",
      "\n",
      "Proceedings of the 24th Annual Conference on Learning Theory\n",
      " -> Conference On Learning Theory\n",
      "\n",
      "The Thirty Sixth Annual Conference on Learning Theory\n",
      " -> Conference On Learning Theory\n",
      "\n"
     ]
    }
   ],
   "source": [
    "for c1, c2 in name_mapping.items():\n",
    "    if 'learning theory' in c1.lower():\n",
    "        print(f'{c1}\\n -> {c2}\\n')"
   ]
  },
  {
   "cell_type": "code",
   "execution_count": 19,
   "id": "8e91da69-322e-4f2a-8fd2-fe71068b92da",
   "metadata": {
    "execution": {
     "iopub.execute_input": "2024-01-08T06:42:00.403935Z",
     "iopub.status.busy": "2024-01-08T06:42:00.403021Z",
     "iopub.status.idle": "2024-01-08T06:42:00.446187Z",
     "shell.execute_reply": "2024-01-08T06:42:00.445763Z",
     "shell.execute_reply.started": "2024-01-08T06:42:00.403881Z"
    },
    "tags": []
   },
   "outputs": [],
   "source": [
    "# def remove_prefix(name):\n",
    "#     pattern = r'.*?(\\b(?!(with|health)\\b)\\w*th)\\b.*?\\s'\n",
    "#     name = re.sub(pattern, '', name).strip()\n",
    "\n",
    "#     return name"
   ]
  },
  {
   "cell_type": "code",
   "execution_count": 20,
   "id": "d1c66097-ea04-4000-b363-aa4dc05b2573",
   "metadata": {
    "execution": {
     "iopub.execute_input": "2024-01-08T06:42:00.785251Z",
     "iopub.status.busy": "2024-01-08T06:42:00.784234Z",
     "iopub.status.idle": "2024-01-08T06:42:00.817573Z",
     "shell.execute_reply": "2024-01-08T06:42:00.817039Z",
     "shell.execute_reply.started": "2024-01-08T06:42:00.785210Z"
    },
    "tags": []
   },
   "outputs": [],
   "source": [
    "def clean_conference_name(name):\n",
    "    pattern_prefix = r'.*?(\\b(?!(with|health)\\b)\\w*th)\\b.*?\\s'\n",
    "    name = re.sub(pattern_prefix, '', name).strip()\n",
    "    name = re.sub(r'[0-9\\']', '', name)\n",
    "\n",
    "    return name"
   ]
  },
  {
   "cell_type": "code",
   "execution_count": 21,
   "id": "c67c31e4-08a9-40b3-9b11-27595c49c2a3",
   "metadata": {
    "execution": {
     "iopub.execute_input": "2024-01-08T06:42:01.655394Z",
     "iopub.status.busy": "2024-01-08T06:42:01.654908Z",
     "iopub.status.idle": "2024-01-08T06:42:02.137676Z",
     "shell.execute_reply": "2024-01-08T06:42:02.137277Z",
     "shell.execute_reply.started": "2024-01-08T06:42:01.655360Z"
    },
    "tags": []
   },
   "outputs": [],
   "source": [
    "df['conference_main'] = df['conference_main'].map(name_mapping).fillna(df['conference_main']).apply(clean_conference_name)"
   ]
  },
  {
   "cell_type": "code",
   "execution_count": 22,
   "id": "c1f9df64-7100-460a-8842-3fca1f54e84e",
   "metadata": {
    "execution": {
     "iopub.execute_input": "2024-01-08T06:42:02.138445Z",
     "iopub.status.busy": "2024-01-08T06:42:02.138345Z",
     "iopub.status.idle": "2024-01-08T06:42:02.152367Z",
     "shell.execute_reply": "2024-01-08T06:42:02.151707Z",
     "shell.execute_reply.started": "2024-01-08T06:42:02.138437Z"
    },
    "tags": []
   },
   "outputs": [
    {
     "data": {
      "text/plain": [
       "['Conference On Learning Theory', 'Algorithmic Learning Theory']"
      ]
     },
     "execution_count": 22,
     "metadata": {},
     "output_type": "execute_result"
    }
   ],
   "source": [
    "[c for c in df['conference_main'].unique() if 'learning theory' in c.lower()]"
   ]
  },
  {
   "cell_type": "code",
   "execution_count": 23,
   "id": "f577a09d-4bb9-4eb4-9b4a-4e0999373014",
   "metadata": {
    "execution": {
     "iopub.execute_input": "2024-01-08T06:42:04.554889Z",
     "iopub.status.busy": "2024-01-08T06:42:04.553904Z",
     "iopub.status.idle": "2024-01-08T06:42:04.592700Z",
     "shell.execute_reply": "2024-01-08T06:42:04.592311Z",
     "shell.execute_reply.started": "2024-01-08T06:42:04.554789Z"
    },
    "tags": []
   },
   "outputs": [
    {
     "data": {
      "text/plain": [
       "count\n",
       "False    0.611765\n",
       "True     0.388235\n",
       "Name: proportion, dtype: float64"
      ]
     },
     "execution_count": 23,
     "metadata": {},
     "output_type": "execute_result"
    }
   ],
   "source": [
    "(df[['conference_main', 'volume']].drop_duplicates()['conference_main'].value_counts() > 1).value_counts(normalize=True)"
   ]
  },
  {
   "cell_type": "code",
   "execution_count": 24,
   "id": "d2193935-dcec-45c6-bb9f-d9ff7ae5837a",
   "metadata": {
    "execution": {
     "iopub.execute_input": "2024-01-08T06:42:04.899825Z",
     "iopub.status.busy": "2024-01-08T06:42:04.899263Z",
     "iopub.status.idle": "2024-01-08T06:42:04.941074Z",
     "shell.execute_reply": "2024-01-08T06:42:04.940745Z",
     "shell.execute_reply.started": "2024-01-08T06:42:04.899783Z"
    },
    "tags": []
   },
   "outputs": [
    {
     "data": {
      "text/plain": [
       "conference_main\n",
       "The  ACM SIGKDD Workshop on Causal Discovery                                                                                            8\n",
       "Proceedings on \"I Cant Believe Its Not Better!  - Understanding Deep Learning Through Empirical Falsification\" at NeurIPS  Workshops    7\n",
       "nd Workshop on Online Recommender Systems and User Modeling                                                                             7\n",
       "European Conference on Machine Learning and Principles and Practice of Knowledge Discovery in Databases                                 7\n",
       "Causal Analysis Workshop Series                                                                                                         6\n",
       "Artificial Intelligence Diversity                                                                                                       5\n",
       "Workshop on Artificial Intelligence in Affective Computing                                                                              5\n",
       "HEAR                                                                                                                                    5\n",
       "Algorithmic Fairness through the Lens of Causality and Robustness workshop                                                              5\n",
       "Workshop on Algorithmic Fairness through the Lens of Causality and Privacy                                                              5\n",
       "Name: count, dtype: int64"
      ]
     },
     "execution_count": 24,
     "metadata": {},
     "output_type": "execute_result"
    }
   ],
   "source": [
    "df.loc[df['year'].apply(int) > 2018, 'conference_main'].value_counts(normalize=False).tail(10)"
   ]
  },
  {
   "cell_type": "code",
   "execution_count": 25,
   "id": "b21c2c6c-e606-4600-b50e-e8b00e7b6449",
   "metadata": {
    "execution": {
     "iopub.execute_input": "2024-01-08T06:42:07.529584Z",
     "iopub.status.busy": "2024-01-08T06:42:07.528634Z",
     "iopub.status.idle": "2024-01-08T06:42:07.566533Z",
     "shell.execute_reply": "2024-01-08T06:42:07.566173Z",
     "shell.execute_reply.started": "2024-01-08T06:42:07.529524Z"
    },
    "tags": []
   },
   "outputs": [
    {
     "data": {
      "text/html": [
       "<div>\n",
       "<style scoped>\n",
       "    .dataframe tbody tr th:only-of-type {\n",
       "        vertical-align: middle;\n",
       "    }\n",
       "\n",
       "    .dataframe tbody tr th {\n",
       "        vertical-align: top;\n",
       "    }\n",
       "\n",
       "    .dataframe thead th {\n",
       "        text-align: right;\n",
       "    }\n",
       "</style>\n",
       "<table border=\"1\" class=\"dataframe\">\n",
       "  <thead>\n",
       "    <tr style=\"text-align: right;\">\n",
       "      <th></th>\n",
       "      <th>title</th>\n",
       "      <th>authors</th>\n",
       "      <th>conference_main</th>\n",
       "      <th>year</th>\n",
       "      <th>volume</th>\n",
       "    </tr>\n",
       "  </thead>\n",
       "  <tbody>\n",
       "    <tr>\n",
       "      <th>0</th>\n",
       "      <td>Gaussian Process Approximations of Stochastic ...</td>\n",
       "      <td>Cedric Archambeau, Dan Cornford, Manfred Opper...</td>\n",
       "      <td>Gaussian Processes in Practice</td>\n",
       "      <td>2006</td>\n",
       "      <td>1</td>\n",
       "    </tr>\n",
       "    <tr>\n",
       "      <th>1</th>\n",
       "      <td>Multi-class Semi-supervised Learning with the ...</td>\n",
       "      <td>Simon Rogers, Mark Girolami</td>\n",
       "      <td>Gaussian Processes in Practice</td>\n",
       "      <td>2006</td>\n",
       "      <td>1</td>\n",
       "    </tr>\n",
       "    <tr>\n",
       "      <th>2</th>\n",
       "      <td>Learning RoboCup-Keepaway with Kernels</td>\n",
       "      <td>Tobias Jung, Daniel Polani</td>\n",
       "      <td>Gaussian Processes in Practice</td>\n",
       "      <td>2006</td>\n",
       "      <td>1</td>\n",
       "    </tr>\n",
       "    <tr>\n",
       "      <th>3</th>\n",
       "      <td>Salient Point and Scale Detection by Minimum L...</td>\n",
       "      <td>Kim S. Pedersen, Marco Loog, Pieter Dorst</td>\n",
       "      <td>Gaussian Processes in Practice</td>\n",
       "      <td>2006</td>\n",
       "      <td>1</td>\n",
       "    </tr>\n",
       "    <tr>\n",
       "      <th>4</th>\n",
       "      <td>Sparse Log Gaussian Processes via MCMC for Spa...</td>\n",
       "      <td>Jarno Vanhatalo, Aki Vehtari</td>\n",
       "      <td>Gaussian Processes in Practice</td>\n",
       "      <td>2006</td>\n",
       "      <td>1</td>\n",
       "    </tr>\n",
       "    <tr>\n",
       "      <th>...</th>\n",
       "      <td>...</td>\n",
       "      <td>...</td>\n",
       "      <td>...</td>\n",
       "      <td>...</td>\n",
       "      <td>...</td>\n",
       "    </tr>\n",
       "    <tr>\n",
       "      <th>18950</th>\n",
       "      <td>Fisher-Rao and pullback Hilbert cone distances...</td>\n",
       "      <td>Frank Nielsen</td>\n",
       "      <td>Topological</td>\n",
       "      <td>2023</td>\n",
       "      <td>221</td>\n",
       "    </tr>\n",
       "    <tr>\n",
       "      <th>18951</th>\n",
       "      <td>On Explicit Curvature Regularization in Deep G...</td>\n",
       "      <td>Yonghyeon Lee, Frank C. Park</td>\n",
       "      <td>Topological</td>\n",
       "      <td>2023</td>\n",
       "      <td>221</td>\n",
       "    </tr>\n",
       "    <tr>\n",
       "      <th>18952</th>\n",
       "      <td>MASIL: Towards Maximum Separable Class Represe...</td>\n",
       "      <td>Anant Khandelwal</td>\n",
       "      <td>Topological</td>\n",
       "      <td>2023</td>\n",
       "      <td>221</td>\n",
       "    </tr>\n",
       "    <tr>\n",
       "      <th>18953</th>\n",
       "      <td>Topological Feature Selection</td>\n",
       "      <td>Antonio Briola, Tomaso Aste</td>\n",
       "      <td>Topological</td>\n",
       "      <td>2023</td>\n",
       "      <td>221</td>\n",
       "    </tr>\n",
       "    <tr>\n",
       "      <th>18954</th>\n",
       "      <td>Linear Regression on Manifold Structured Data:...</td>\n",
       "      <td>Liangchen Liu, Juncai He, Yen-Hsi Tsai</td>\n",
       "      <td>Topological</td>\n",
       "      <td>2023</td>\n",
       "      <td>221</td>\n",
       "    </tr>\n",
       "  </tbody>\n",
       "</table>\n",
       "<p>18955 rows × 5 columns</p>\n",
       "</div>"
      ],
      "text/plain": [
       "                                                   title  \\\n",
       "0      Gaussian Process Approximations of Stochastic ...   \n",
       "1      Multi-class Semi-supervised Learning with the ...   \n",
       "2                 Learning RoboCup-Keepaway with Kernels   \n",
       "3      Salient Point and Scale Detection by Minimum L...   \n",
       "4      Sparse Log Gaussian Processes via MCMC for Spa...   \n",
       "...                                                  ...   \n",
       "18950  Fisher-Rao and pullback Hilbert cone distances...   \n",
       "18951  On Explicit Curvature Regularization in Deep G...   \n",
       "18952  MASIL: Towards Maximum Separable Class Represe...   \n",
       "18953                      Topological Feature Selection   \n",
       "18954  Linear Regression on Manifold Structured Data:...   \n",
       "\n",
       "                                                 authors  \\\n",
       "0      Cedric Archambeau, Dan Cornford, Manfred Opper...   \n",
       "1                            Simon Rogers, Mark Girolami   \n",
       "2                             Tobias Jung, Daniel Polani   \n",
       "3              Kim S. Pedersen, Marco Loog, Pieter Dorst   \n",
       "4                           Jarno Vanhatalo, Aki Vehtari   \n",
       "...                                                  ...   \n",
       "18950                                      Frank Nielsen   \n",
       "18951                       Yonghyeon Lee, Frank C. Park   \n",
       "18952                                   Anant Khandelwal   \n",
       "18953                        Antonio Briola, Tomaso Aste   \n",
       "18954             Liangchen Liu, Juncai He, Yen-Hsi Tsai   \n",
       "\n",
       "                      conference_main  year volume  \n",
       "0      Gaussian Processes in Practice  2006      1  \n",
       "1      Gaussian Processes in Practice  2006      1  \n",
       "2      Gaussian Processes in Practice  2006      1  \n",
       "3      Gaussian Processes in Practice  2006      1  \n",
       "4      Gaussian Processes in Practice  2006      1  \n",
       "...                               ...   ...    ...  \n",
       "18950                     Topological  2023    221  \n",
       "18951                     Topological  2023    221  \n",
       "18952                     Topological  2023    221  \n",
       "18953                     Topological  2023    221  \n",
       "18954                     Topological  2023    221  \n",
       "\n",
       "[18955 rows x 5 columns]"
      ]
     },
     "execution_count": 25,
     "metadata": {},
     "output_type": "execute_result"
    }
   ],
   "source": [
    "df[['title', 'authors', 'conference_main', 'year', 'volume']]"
   ]
  },
  {
   "cell_type": "code",
   "execution_count": 30,
   "id": "0cf203c2-2e90-4214-a805-71d96fb0c236",
   "metadata": {
    "execution": {
     "iopub.execute_input": "2024-01-08T06:53:33.380239Z",
     "iopub.status.busy": "2024-01-08T06:53:33.379015Z",
     "iopub.status.idle": "2024-01-08T06:53:33.449212Z",
     "shell.execute_reply": "2024-01-08T06:53:33.448151Z",
     "shell.execute_reply.started": "2024-01-08T06:53:33.380166Z"
    },
    "tags": []
   },
   "outputs": [],
   "source": [
    "df[\"authors_list\"] = df[\"authors\"].apply(lambda auths: auths.split(\",\\xa0\"))"
   ]
  },
  {
   "cell_type": "code",
   "execution_count": 37,
   "id": "c5f53cff-91dc-4802-b24a-06b795d08f2f",
   "metadata": {
    "execution": {
     "iopub.execute_input": "2024-01-08T06:57:05.669110Z",
     "iopub.status.busy": "2024-01-08T06:57:05.668559Z",
     "iopub.status.idle": "2024-01-08T06:57:05.700748Z",
     "shell.execute_reply": "2024-01-08T06:57:05.700398Z",
     "shell.execute_reply.started": "2024-01-08T06:57:05.669067Z"
    },
    "tags": []
   },
   "outputs": [],
   "source": [
    "from collections import Counter"
   ]
  },
  {
   "cell_type": "code",
   "execution_count": 39,
   "id": "22503609-8901-4e96-b3c0-df4a1a3da9e7",
   "metadata": {
    "execution": {
     "iopub.execute_input": "2024-01-08T06:57:29.201800Z",
     "iopub.status.busy": "2024-01-08T06:57:29.200905Z",
     "iopub.status.idle": "2024-01-08T06:57:29.248294Z",
     "shell.execute_reply": "2024-01-08T06:57:29.247941Z",
     "shell.execute_reply.started": "2024-01-08T06:57:29.201754Z"
    },
    "tags": []
   },
   "outputs": [],
   "source": [
    "authors_counter = Counter([a for a_list in df[\"authors_list\"].to_list() for a in a_list])"
   ]
  },
  {
   "cell_type": "code",
   "execution_count": 45,
   "id": "fd1d289f-133e-4361-83d1-a83b25ca4396",
   "metadata": {
    "execution": {
     "iopub.execute_input": "2024-01-08T06:58:09.232939Z",
     "iopub.status.busy": "2024-01-08T06:58:09.232115Z",
     "iopub.status.idle": "2024-01-08T06:58:09.273404Z",
     "shell.execute_reply": "2024-01-08T06:58:09.273070Z",
     "shell.execute_reply.started": "2024-01-08T06:58:09.232885Z"
    },
    "tags": []
   },
   "outputs": [
    {
     "data": {
      "text/html": [
       "<div>\n",
       "<style scoped>\n",
       "    .dataframe tbody tr th:only-of-type {\n",
       "        vertical-align: middle;\n",
       "    }\n",
       "\n",
       "    .dataframe tbody tr th {\n",
       "        vertical-align: top;\n",
       "    }\n",
       "\n",
       "    .dataframe thead th {\n",
       "        text-align: right;\n",
       "    }\n",
       "</style>\n",
       "<table border=\"1\" class=\"dataframe\">\n",
       "  <thead>\n",
       "    <tr style=\"text-align: right;\">\n",
       "      <th></th>\n",
       "      <th>0</th>\n",
       "      <th>1</th>\n",
       "    </tr>\n",
       "  </thead>\n",
       "  <tbody>\n",
       "    <tr>\n",
       "      <th>0</th>\n",
       "      <td>Sergey Levine</td>\n",
       "      <td>97</td>\n",
       "    </tr>\n",
       "    <tr>\n",
       "      <th>1</th>\n",
       "      <td>Masashi Sugiyama</td>\n",
       "      <td>90</td>\n",
       "    </tr>\n",
       "    <tr>\n",
       "      <th>2</th>\n",
       "      <td>Quanquan Gu</td>\n",
       "      <td>79</td>\n",
       "    </tr>\n",
       "    <tr>\n",
       "      <th>3</th>\n",
       "      <td>Andreas Krause</td>\n",
       "      <td>79</td>\n",
       "    </tr>\n",
       "    <tr>\n",
       "      <th>4</th>\n",
       "      <td>Bernhard Schölkopf</td>\n",
       "      <td>76</td>\n",
       "    </tr>\n",
       "    <tr>\n",
       "      <th>5</th>\n",
       "      <td>Yoshua Bengio</td>\n",
       "      <td>66</td>\n",
       "    </tr>\n",
       "    <tr>\n",
       "      <th>6</th>\n",
       "      <td>Csaba Szepesvari</td>\n",
       "      <td>63</td>\n",
       "    </tr>\n",
       "    <tr>\n",
       "      <th>7</th>\n",
       "      <td>Pieter Abbeel</td>\n",
       "      <td>62</td>\n",
       "    </tr>\n",
       "    <tr>\n",
       "      <th>8</th>\n",
       "      <td>Shie Mannor</td>\n",
       "      <td>61</td>\n",
       "    </tr>\n",
       "    <tr>\n",
       "      <th>9</th>\n",
       "      <td>Michal Valko</td>\n",
       "      <td>60</td>\n",
       "    </tr>\n",
       "  </tbody>\n",
       "</table>\n",
       "</div>"
      ],
      "text/plain": [
       "                    0   1\n",
       "0       Sergey Levine  97\n",
       "1    Masashi Sugiyama  90\n",
       "2         Quanquan Gu  79\n",
       "3      Andreas Krause  79\n",
       "4  Bernhard Schölkopf  76\n",
       "5       Yoshua Bengio  66\n",
       "6    Csaba Szepesvari  63\n",
       "7       Pieter Abbeel  62\n",
       "8         Shie Mannor  61\n",
       "9        Michal Valko  60"
      ]
     },
     "execution_count": 45,
     "metadata": {},
     "output_type": "execute_result"
    }
   ],
   "source": [
    "pd.DataFrame(authors_counter.most_common(10))"
   ]
  },
  {
   "cell_type": "code",
   "execution_count": null,
   "id": "6a169182-7f54-4dae-aa0c-4eb2be416ee5",
   "metadata": {},
   "outputs": [],
   "source": []
  },
  {
   "cell_type": "code",
   "execution_count": 55,
   "id": "0750a291-b7b2-4a76-8605-ab333536d518",
   "metadata": {
    "execution": {
     "iopub.execute_input": "2024-01-08T07:02:40.276630Z",
     "iopub.status.busy": "2024-01-08T07:02:40.275963Z",
     "iopub.status.idle": "2024-01-08T07:02:40.330308Z",
     "shell.execute_reply": "2024-01-08T07:02:40.329938Z",
     "shell.execute_reply.started": "2024-01-08T07:02:40.276581Z"
    },
    "tags": []
   },
   "outputs": [
    {
     "data": {
      "text/plain": [
       "for         6419\n",
       "learning    4933\n",
       "of          3809\n",
       "with        3511\n",
       "and         3349\n",
       "in          2717\n",
       "a           2228\n",
       "the         2154\n",
       "on          1342\n",
       "neural      1243\n",
       "Name: count, dtype: int64"
      ]
     },
     "execution_count": 55,
     "metadata": {},
     "output_type": "execute_result"
    }
   ],
   "source": [
    "pd.Series(\" \".join(df[\"title\"].values.flatten()).lower().split(\" \")).value_counts().head(10)"
   ]
  }
 ],
 "metadata": {
  "kernelspec": {
   "display_name": "Python 3 (ipykernel)",
   "language": "python",
   "name": "python3"
  },
  "language_info": {
   "codemirror_mode": {
    "name": "ipython",
    "version": 3
   },
   "file_extension": ".py",
   "mimetype": "text/x-python",
   "name": "python",
   "nbconvert_exporter": "python",
   "pygments_lexer": "ipython3",
   "version": "3.10.10"
  }
 },
 "nbformat": 4,
 "nbformat_minor": 5
}
