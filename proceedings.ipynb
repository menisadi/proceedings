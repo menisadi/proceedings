{
 "cells": [
  {
   "cell_type": "code",
   "execution_count": 1,
   "id": "3609bc2a-1f43-4900-9e55-bb6012539f2f",
   "metadata": {
    "execution": {
     "iopub.execute_input": "2024-01-04T06:41:30.799352Z",
     "iopub.status.busy": "2024-01-04T06:41:30.797487Z",
     "iopub.status.idle": "2024-01-04T06:41:31.889916Z",
     "shell.execute_reply": "2024-01-04T06:41:31.889655Z",
     "shell.execute_reply.started": "2024-01-04T06:41:30.799240Z"
    },
    "tags": []
   },
   "outputs": [],
   "source": [
    "import numpy as np\n",
    "import pandas as pd\n",
    "import seaborn as sns\n",
    "import matplotlib.pyplot as plt\n",
    "sns.set(rc={'figure.figsize':(12,5)})\n",
    "%load_ext autoreload\n",
    "%autoreload 2"
   ]
  },
  {
   "cell_type": "code",
   "execution_count": 50,
   "id": "69f8eaa6-dd3f-4a30-a819-9dc5686824e1",
   "metadata": {
    "execution": {
     "iopub.execute_input": "2024-01-04T07:04:13.216528Z",
     "iopub.status.busy": "2024-01-04T07:04:13.215723Z",
     "iopub.status.idle": "2024-01-04T07:04:13.242598Z",
     "shell.execute_reply": "2024-01-04T07:04:13.242092Z",
     "shell.execute_reply.started": "2024-01-04T07:04:13.216465Z"
    },
    "tags": []
   },
   "outputs": [],
   "source": [
    "import re\n",
    "from fuzzywuzzy import process\n",
    "import pprint"
   ]
  },
  {
   "cell_type": "code",
   "execution_count": 2,
   "id": "c3750b48-4e7f-4b5a-aa2a-846579da1fd7",
   "metadata": {
    "execution": {
     "iopub.execute_input": "2024-01-04T06:41:32.566318Z",
     "iopub.status.busy": "2024-01-04T06:41:32.565540Z",
     "iopub.status.idle": "2024-01-04T06:41:32.915287Z",
     "shell.execute_reply": "2024-01-04T06:41:32.914833Z",
     "shell.execute_reply.started": "2024-01-04T06:41:32.566281Z"
    },
    "tags": []
   },
   "outputs": [],
   "source": [
    "df = pd.read_parquet(\"proceedings.parquet\")"
   ]
  },
  {
   "cell_type": "code",
   "execution_count": 3,
   "id": "e81096ce-5bdd-4cd0-9fd1-e566408c8bc9",
   "metadata": {
    "execution": {
     "iopub.execute_input": "2024-01-04T06:41:32.916421Z",
     "iopub.status.busy": "2024-01-04T06:41:32.916279Z",
     "iopub.status.idle": "2024-01-04T06:41:32.937724Z",
     "shell.execute_reply": "2024-01-04T06:41:32.937344Z",
     "shell.execute_reply.started": "2024-01-04T06:41:32.916407Z"
    },
    "tags": []
   },
   "outputs": [],
   "source": [
    "df[\"volume\"] = df[\"conference\"].apply(lambda x: x.split(\":\")[0].split(\" \")[1])"
   ]
  },
  {
   "cell_type": "code",
   "execution_count": 5,
   "id": "332e794d-a58a-445c-9b09-5123d2bcb314",
   "metadata": {
    "execution": {
     "iopub.execute_input": "2024-01-04T06:41:33.205262Z",
     "iopub.status.busy": "2024-01-04T06:41:33.204800Z",
     "iopub.status.idle": "2024-01-04T06:41:33.281378Z",
     "shell.execute_reply": "2024-01-04T06:41:33.281026Z",
     "shell.execute_reply.started": "2024-01-04T06:41:33.205231Z"
    },
    "tags": []
   },
   "outputs": [],
   "source": [
    "df['year'] = df['conference'].apply(lambda x: re.search(r'(19|20)\\d{2}', str(x)).group(0) if re.search(r'(19|20)\\d{2}', str(x)) else None)"
   ]
  },
  {
   "cell_type": "code",
   "execution_count": 6,
   "id": "73beb9d7-92cf-4f92-89c6-55327ac8c292",
   "metadata": {
    "execution": {
     "iopub.execute_input": "2024-01-04T06:41:33.404465Z",
     "iopub.status.busy": "2024-01-04T06:41:33.404004Z",
     "iopub.status.idle": "2024-01-04T06:41:33.430734Z",
     "shell.execute_reply": "2024-01-04T06:41:33.430302Z",
     "shell.execute_reply.started": "2024-01-04T06:41:33.404434Z"
    },
    "tags": []
   },
   "outputs": [
    {
     "data": {
      "text/plain": [
       "year\n",
       "2022    3229\n",
       "2023    3106\n",
       "2021    2834\n",
       "2020    2407\n",
       "2019    1840\n",
       "2018    1255\n",
       "2017     948\n",
       "2016     708\n",
       "2014     574\n",
       "2015     545\n",
       "2013     438\n",
       "2012     284\n",
       "2011     221\n",
       "2010     201\n",
       "2009     111\n",
       "2007      86\n",
       "2008      41\n",
       "2006       5\n",
       "Name: count, dtype: int64"
      ]
     },
     "execution_count": 6,
     "metadata": {},
     "output_type": "execute_result"
    }
   ],
   "source": [
    "df['year'].value_counts()"
   ]
  },
  {
   "cell_type": "code",
   "execution_count": 7,
   "id": "991613ae-809c-47d3-9e94-d77712a8e8b8",
   "metadata": {
    "execution": {
     "iopub.execute_input": "2024-01-04T06:41:33.578184Z",
     "iopub.status.busy": "2024-01-04T06:41:33.577520Z",
     "iopub.status.idle": "2024-01-04T06:41:33.614810Z",
     "shell.execute_reply": "2024-01-04T06:41:33.614229Z",
     "shell.execute_reply.started": "2024-01-04T06:41:33.578137Z"
    },
    "tags": []
   },
   "outputs": [],
   "source": [
    "df[\"conference_main\"] = df[\"conference\"].apply(lambda x: x.split(\":\")[1].split(',')[0])"
   ]
  },
  {
   "cell_type": "code",
   "execution_count": 31,
   "id": "ef4fc78c-be2d-455c-9b0c-fe7b11506c40",
   "metadata": {
    "execution": {
     "iopub.execute_input": "2024-01-04T06:48:41.453615Z",
     "iopub.status.busy": "2024-01-04T06:48:41.452723Z",
     "iopub.status.idle": "2024-01-04T06:48:41.482003Z",
     "shell.execute_reply": "2024-01-04T06:48:41.481045Z",
     "shell.execute_reply.started": "2024-01-04T06:48:41.453555Z"
    },
    "tags": []
   },
   "outputs": [
    {
     "data": {
      "text/plain": [
       "array(['Volume 117: Algorithmic Learning Theory, , San Diego, California, USA',\n",
       "       'Volume 201: International Conference on Algorithmic Learning Theory, , Singapore',\n",
       "       'Volume 209: Conference on Health, Inference, and Learning, , 415 Main Street, Cambridge, MA USA 02142'],\n",
       "      dtype=object)"
      ]
     },
     "execution_count": 31,
     "metadata": {},
     "output_type": "execute_result"
    }
   ],
   "source": [
    "df.loc[df['year'].isna(), 'conference'].unique()"
   ]
  },
  {
   "cell_type": "code",
   "execution_count": 34,
   "id": "8a9bec76-386e-4395-bcef-2ab83a137ef1",
   "metadata": {
    "execution": {
     "iopub.execute_input": "2024-01-04T06:52:07.117142Z",
     "iopub.status.busy": "2024-01-04T06:52:07.115964Z",
     "iopub.status.idle": "2024-01-04T06:52:07.144710Z",
     "shell.execute_reply": "2024-01-04T06:52:07.144080Z",
     "shell.execute_reply.started": "2024-01-04T06:52:07.117084Z"
    },
    "tags": []
   },
   "outputs": [],
   "source": [
    "df.loc[df['volume'] == '117', 'year'] = '2020'"
   ]
  },
  {
   "cell_type": "code",
   "execution_count": 35,
   "id": "0147cce0-996d-43f9-9338-76f89a99e7e1",
   "metadata": {
    "execution": {
     "iopub.execute_input": "2024-01-04T06:53:13.578531Z",
     "iopub.status.busy": "2024-01-04T06:53:13.576878Z",
     "iopub.status.idle": "2024-01-04T06:53:13.610023Z",
     "shell.execute_reply": "2024-01-04T06:53:13.609659Z",
     "shell.execute_reply.started": "2024-01-04T06:53:13.578452Z"
    },
    "tags": []
   },
   "outputs": [],
   "source": [
    "df.loc[df['volume'] == '201', 'year'] = '2023'"
   ]
  },
  {
   "cell_type": "code",
   "execution_count": 36,
   "id": "ceede161-d1aa-4aa0-bd43-7e88bf88fa6f",
   "metadata": {
    "execution": {
     "iopub.execute_input": "2024-01-04T06:53:40.553521Z",
     "iopub.status.busy": "2024-01-04T06:53:40.552190Z",
     "iopub.status.idle": "2024-01-04T06:53:40.579113Z",
     "shell.execute_reply": "2024-01-04T06:53:40.578696Z",
     "shell.execute_reply.started": "2024-01-04T06:53:40.553450Z"
    },
    "tags": []
   },
   "outputs": [],
   "source": [
    "df.loc[df['volume'] == '209', 'year'] = '2023'"
   ]
  },
  {
   "cell_type": "code",
   "execution_count": 44,
   "id": "654d9723-f32d-4eeb-88b7-45689ca5ef25",
   "metadata": {
    "execution": {
     "iopub.execute_input": "2024-01-04T07:01:44.113719Z",
     "iopub.status.busy": "2024-01-04T07:01:44.112129Z",
     "iopub.status.idle": "2024-01-04T07:01:44.143319Z",
     "shell.execute_reply": "2024-01-04T07:01:44.142805Z",
     "shell.execute_reply.started": "2024-01-04T07:01:44.113625Z"
    },
    "tags": []
   },
   "outputs": [],
   "source": [
    "def get_best_match(name, choices):\n",
    "    return process.extractOne(name, choices)"
   ]
  },
  {
   "cell_type": "code",
   "execution_count": 58,
   "id": "c258267d-4941-4d40-a623-4eb27519d4df",
   "metadata": {
    "execution": {
     "iopub.execute_input": "2024-01-04T07:07:05.267262Z",
     "iopub.status.busy": "2024-01-04T07:07:05.266144Z",
     "iopub.status.idle": "2024-01-04T07:07:05.296372Z",
     "shell.execute_reply": "2024-01-04T07:07:05.295942Z",
     "shell.execute_reply.started": "2024-01-04T07:07:05.267189Z"
    },
    "tags": []
   },
   "outputs": [],
   "source": [
    "df['conference_main'] = df['conference_main'].apply(lambda c: c[1:])"
   ]
  },
  {
   "cell_type": "code",
   "execution_count": 95,
   "id": "73df9b1a-610a-4227-a923-e97b3e749895",
   "metadata": {
    "execution": {
     "iopub.execute_input": "2024-01-04T07:33:43.573376Z",
     "iopub.status.busy": "2024-01-04T07:33:43.573003Z",
     "iopub.status.idle": "2024-01-04T07:33:43.600880Z",
     "shell.execute_reply": "2024-01-04T07:33:43.599477Z",
     "shell.execute_reply.started": "2024-01-04T07:33:43.573349Z"
    },
    "tags": []
   },
   "outputs": [],
   "source": [
    "# df['conference_main'].apply(remove_prefix)"
   ]
  },
  {
   "cell_type": "code",
   "execution_count": 83,
   "id": "8a68b926-7576-413c-bf71-7e78e0f14e1d",
   "metadata": {
    "execution": {
     "iopub.execute_input": "2024-01-04T07:26:15.622260Z",
     "iopub.status.busy": "2024-01-04T07:26:15.621361Z",
     "iopub.status.idle": "2024-01-04T07:26:15.729838Z",
     "shell.execute_reply": "2024-01-04T07:26:15.729550Z",
     "shell.execute_reply.started": "2024-01-04T07:26:15.622198Z"
    },
    "tags": []
   },
   "outputs": [],
   "source": [
    "import networkx as nx"
   ]
  },
  {
   "cell_type": "code",
   "execution_count": 120,
   "id": "36d12cc9-3060-43c1-ad4f-5a2469cbe061",
   "metadata": {
    "execution": {
     "iopub.execute_input": "2024-01-04T07:41:39.320956Z",
     "iopub.status.busy": "2024-01-04T07:41:39.320494Z",
     "iopub.status.idle": "2024-01-04T07:41:45.336624Z",
     "shell.execute_reply": "2024-01-04T07:41:45.336264Z",
     "shell.execute_reply.started": "2024-01-04T07:41:39.320925Z"
    },
    "tags": []
   },
   "outputs": [],
   "source": [
    "unique_conferences = set(df['conference_main'])\n",
    "\n",
    "name_mapping = {}\n",
    "names_graph = nx.Graph()\n",
    "names_graph.add_nodes_from(unique_conferences)\n",
    "\n",
    "for conference in unique_conferences:\n",
    "    match, score = get_best_match(conference, unique_conferences - {conference})\n",
    "    if score >= 90:\n",
    "        names_graph.add_edge(conference, match)\n",
    "        # name_mapping[conference] = match"
   ]
  },
  {
   "cell_type": "code",
   "execution_count": 121,
   "id": "9dcdd4aa-2106-4302-b2aa-ab072a473be9",
   "metadata": {
    "execution": {
     "iopub.execute_input": "2024-01-04T07:41:45.337531Z",
     "iopub.status.busy": "2024-01-04T07:41:45.337434Z",
     "iopub.status.idle": "2024-01-04T07:41:45.348260Z",
     "shell.execute_reply": "2024-01-04T07:41:45.347967Z",
     "shell.execute_reply.started": "2024-01-04T07:41:45.337523Z"
    },
    "tags": []
   },
   "outputs": [],
   "source": [
    "for c in nx.connected_components(names_graph):\n",
    "    if len(c) > 1:\n",
    "        target_name = min(c, key=len)\n",
    "        for conference in c:\n",
    "            name_mapping[conference] = target_name"
   ]
  },
  {
   "cell_type": "code",
   "execution_count": 122,
   "id": "f07fd82d-0520-4d0a-b95a-dffd2b4458b0",
   "metadata": {
    "execution": {
     "iopub.execute_input": "2024-01-04T07:41:45.348782Z",
     "iopub.status.busy": "2024-01-04T07:41:45.348677Z",
     "iopub.status.idle": "2024-01-04T07:41:45.360090Z",
     "shell.execute_reply": "2024-01-04T07:41:45.359666Z",
     "shell.execute_reply.started": "2024-01-04T07:41:45.348772Z"
    },
    "tags": []
   },
   "outputs": [
    {
     "name": "stdout",
     "output_type": "stream",
     "text": [
      "Algorithmic Learning Theory\n",
      " -> Algorithmic Learning Theory\n",
      "\n",
      "International Conference on Algorithmic Learning Theory\n",
      " -> Algorithmic Learning Theory\n",
      "\n"
     ]
    }
   ],
   "source": [
    "for c1, c2 in name_mapping.items():\n",
    "    if 'learning theory' in c1.lower():\n",
    "        print(f'{c1}\\n -> {c2}\\n')"
   ]
  },
  {
   "cell_type": "code",
   "execution_count": 100,
   "id": "8e91da69-322e-4f2a-8fd2-fe71068b92da",
   "metadata": {
    "execution": {
     "iopub.execute_input": "2024-01-04T07:35:19.894263Z",
     "iopub.status.busy": "2024-01-04T07:35:19.893772Z",
     "iopub.status.idle": "2024-01-04T07:35:19.922748Z",
     "shell.execute_reply": "2024-01-04T07:35:19.922340Z",
     "shell.execute_reply.started": "2024-01-04T07:35:19.894229Z"
    },
    "tags": []
   },
   "outputs": [],
   "source": [
    "# def remove_prefix(name):\n",
    "#     pattern = r'.*?(\\b(?!(with|health)\\b)\\w*th)\\b.*?\\s'\n",
    "#     name = re.sub(pattern, '', name).strip()\n",
    "\n",
    "#     return name"
   ]
  },
  {
   "cell_type": "code",
   "execution_count": 99,
   "id": "d1c66097-ea04-4000-b363-aa4dc05b2573",
   "metadata": {
    "execution": {
     "iopub.execute_input": "2024-01-04T07:35:16.253690Z",
     "iopub.status.busy": "2024-01-04T07:35:16.252909Z",
     "iopub.status.idle": "2024-01-04T07:35:16.278907Z",
     "shell.execute_reply": "2024-01-04T07:35:16.278462Z",
     "shell.execute_reply.started": "2024-01-04T07:35:16.253644Z"
    },
    "tags": []
   },
   "outputs": [],
   "source": [
    "def clean_conference_name(name):\n",
    "    pattern_prefix = r'.*?(\\b(?!(with|health)\\b)\\w*th)\\b.*?\\s'\n",
    "    name = re.sub(pattern_prefix, '', name).strip()\n",
    "    name = re.sub(r'[0-9\\']', '', name)\n",
    "\n",
    "    return name"
   ]
  },
  {
   "cell_type": "code",
   "execution_count": 123,
   "id": "c67c31e4-08a9-40b3-9b11-27595c49c2a3",
   "metadata": {
    "execution": {
     "iopub.execute_input": "2024-01-04T07:41:51.034400Z",
     "iopub.status.busy": "2024-01-04T07:41:51.033313Z",
     "iopub.status.idle": "2024-01-04T07:41:51.505579Z",
     "shell.execute_reply": "2024-01-04T07:41:51.505209Z",
     "shell.execute_reply.started": "2024-01-04T07:41:51.034342Z"
    },
    "tags": []
   },
   "outputs": [],
   "source": [
    "df['conference_main'] = df['conference_main'].map(name_mapping).fillna(df['conference_main']).apply(clean_conference_name)"
   ]
  },
  {
   "cell_type": "code",
   "execution_count": 124,
   "id": "c1f9df64-7100-460a-8842-3fca1f54e84e",
   "metadata": {
    "execution": {
     "iopub.execute_input": "2024-01-04T07:41:51.600750Z",
     "iopub.status.busy": "2024-01-04T07:41:51.600342Z",
     "iopub.status.idle": "2024-01-04T07:41:51.619406Z",
     "shell.execute_reply": "2024-01-04T07:41:51.618788Z",
     "shell.execute_reply.started": "2024-01-04T07:41:51.600732Z"
    },
    "tags": []
   },
   "outputs": [
    {
     "data": {
      "text/plain": [
       "['Conference On Learning Theory', 'Algorithmic Learning Theory']"
      ]
     },
     "execution_count": 124,
     "metadata": {},
     "output_type": "execute_result"
    }
   ],
   "source": [
    "[c for c in df['conference_main'].unique() if 'learning theory' in c.lower()]"
   ]
  },
  {
   "cell_type": "code",
   "execution_count": 132,
   "id": "f577a09d-4bb9-4eb4-9b4a-4e0999373014",
   "metadata": {
    "execution": {
     "iopub.execute_input": "2024-01-04T07:44:13.231615Z",
     "iopub.status.busy": "2024-01-04T07:44:13.230709Z",
     "iopub.status.idle": "2024-01-04T07:44:13.265677Z",
     "shell.execute_reply": "2024-01-04T07:44:13.265270Z",
     "shell.execute_reply.started": "2024-01-04T07:44:13.231557Z"
    },
    "tags": []
   },
   "outputs": [
    {
     "data": {
      "text/plain": [
       "count\n",
       "False    0.609756\n",
       "True     0.390244\n",
       "Name: proportion, dtype: float64"
      ]
     },
     "execution_count": 132,
     "metadata": {},
     "output_type": "execute_result"
    }
   ],
   "source": [
    "(df[['conference_main', 'volume']].drop_duplicates()['conference_main'].value_counts() > 1).value_counts(normalize=True)"
   ]
  },
  {
   "cell_type": "code",
   "execution_count": 127,
   "id": "d2193935-dcec-45c6-bb9f-d9ff7ae5837a",
   "metadata": {
    "execution": {
     "iopub.execute_input": "2024-01-04T07:42:38.651763Z",
     "iopub.status.busy": "2024-01-04T07:42:38.651205Z",
     "iopub.status.idle": "2024-01-04T07:42:38.686622Z",
     "shell.execute_reply": "2024-01-04T07:42:38.686204Z",
     "shell.execute_reply.started": "2024-01-04T07:42:38.651730Z"
    },
    "tags": []
   },
   "outputs": [
    {
     "data": {
      "text/plain": [
       "conference_main\n",
       "Transfer Learning for Natural Language Processing Workshop                                                                              9\n",
       "European Conference on Machine Learning and Principles and Practice of Knowledge Discovery in Databases                                 7\n",
       "Proceedings on \"I Cant Believe Its Not Better!  - Understanding Deep Learning Through Empirical Falsification\" at NeurIPS  Workshops    7\n",
       "nd Workshop on Online Recommender Systems and User Modeling                                                                             7\n",
       "Causal Analysis Workshop Series                                                                                                         6\n",
       "Artificial Intelligence Diversity                                                                                                       5\n",
       "Workshop on Artificial Intelligence in Affective Computing                                                                              5\n",
       "Algorithmic Fairness through the Lens of Causality and Robustness workshop                                                              5\n",
       "Workshop on Algorithmic Fairness through the Lens of Causality and Privacy                                                              5\n",
       "HEAR                                                                                                                                    5\n",
       "Name: count, dtype: int64"
      ]
     },
     "execution_count": 127,
     "metadata": {},
     "output_type": "execute_result"
    }
   ],
   "source": [
    "df.loc[df['year'].apply(int) > 2018, 'conference_main'].value_counts(normalize=False).tail(10)"
   ]
  },
  {
   "cell_type": "code",
   "execution_count": 126,
   "id": "b21c2c6c-e606-4600-b50e-e8b00e7b6449",
   "metadata": {
    "execution": {
     "iopub.execute_input": "2024-01-04T07:42:11.452210Z",
     "iopub.status.busy": "2024-01-04T07:42:11.451570Z",
     "iopub.status.idle": "2024-01-04T07:42:11.493507Z",
     "shell.execute_reply": "2024-01-04T07:42:11.493012Z",
     "shell.execute_reply.started": "2024-01-04T07:42:11.452166Z"
    },
    "tags": []
   },
   "outputs": [
    {
     "data": {
      "text/html": [
       "<div>\n",
       "<style scoped>\n",
       "    .dataframe tbody tr th:only-of-type {\n",
       "        vertical-align: middle;\n",
       "    }\n",
       "\n",
       "    .dataframe tbody tr th {\n",
       "        vertical-align: top;\n",
       "    }\n",
       "\n",
       "    .dataframe thead th {\n",
       "        text-align: right;\n",
       "    }\n",
       "</style>\n",
       "<table border=\"1\" class=\"dataframe\">\n",
       "  <thead>\n",
       "    <tr style=\"text-align: right;\">\n",
       "      <th></th>\n",
       "      <th>title</th>\n",
       "      <th>authors</th>\n",
       "      <th>conference_main</th>\n",
       "      <th>year</th>\n",
       "      <th>volume</th>\n",
       "    </tr>\n",
       "  </thead>\n",
       "  <tbody>\n",
       "    <tr>\n",
       "      <th>0</th>\n",
       "      <td>Gaussian Process Approximations of Stochastic ...</td>\n",
       "      <td>Cedric Archambeau, Dan Cornford, Manfred Opper...</td>\n",
       "      <td>Gaussian Processes in Practice</td>\n",
       "      <td>2006</td>\n",
       "      <td>1</td>\n",
       "    </tr>\n",
       "    <tr>\n",
       "      <th>1</th>\n",
       "      <td>Multi-class Semi-supervised Learning with the ...</td>\n",
       "      <td>Simon Rogers, Mark Girolami</td>\n",
       "      <td>Gaussian Processes in Practice</td>\n",
       "      <td>2006</td>\n",
       "      <td>1</td>\n",
       "    </tr>\n",
       "    <tr>\n",
       "      <th>2</th>\n",
       "      <td>Learning RoboCup-Keepaway with Kernels</td>\n",
       "      <td>Tobias Jung, Daniel Polani</td>\n",
       "      <td>Gaussian Processes in Practice</td>\n",
       "      <td>2006</td>\n",
       "      <td>1</td>\n",
       "    </tr>\n",
       "    <tr>\n",
       "      <th>3</th>\n",
       "      <td>Salient Point and Scale Detection by Minimum L...</td>\n",
       "      <td>Kim S. Pedersen, Marco Loog, Pieter Dorst</td>\n",
       "      <td>Gaussian Processes in Practice</td>\n",
       "      <td>2006</td>\n",
       "      <td>1</td>\n",
       "    </tr>\n",
       "    <tr>\n",
       "      <th>4</th>\n",
       "      <td>Sparse Log Gaussian Processes via MCMC for Spa...</td>\n",
       "      <td>Jarno Vanhatalo, Aki Vehtari</td>\n",
       "      <td>Gaussian Processes in Practice</td>\n",
       "      <td>2006</td>\n",
       "      <td>1</td>\n",
       "    </tr>\n",
       "    <tr>\n",
       "      <th>...</th>\n",
       "      <td>...</td>\n",
       "      <td>...</td>\n",
       "      <td>...</td>\n",
       "      <td>...</td>\n",
       "      <td>...</td>\n",
       "    </tr>\n",
       "    <tr>\n",
       "      <th>18950</th>\n",
       "      <td>Fisher-Rao and pullback Hilbert cone distances...</td>\n",
       "      <td>Frank Nielsen</td>\n",
       "      <td>Topological</td>\n",
       "      <td>2023</td>\n",
       "      <td>221</td>\n",
       "    </tr>\n",
       "    <tr>\n",
       "      <th>18951</th>\n",
       "      <td>On Explicit Curvature Regularization in Deep G...</td>\n",
       "      <td>Yonghyeon Lee, Frank C. Park</td>\n",
       "      <td>Topological</td>\n",
       "      <td>2023</td>\n",
       "      <td>221</td>\n",
       "    </tr>\n",
       "    <tr>\n",
       "      <th>18952</th>\n",
       "      <td>MASIL: Towards Maximum Separable Class Represe...</td>\n",
       "      <td>Anant Khandelwal</td>\n",
       "      <td>Topological</td>\n",
       "      <td>2023</td>\n",
       "      <td>221</td>\n",
       "    </tr>\n",
       "    <tr>\n",
       "      <th>18953</th>\n",
       "      <td>Topological Feature Selection</td>\n",
       "      <td>Antonio Briola, Tomaso Aste</td>\n",
       "      <td>Topological</td>\n",
       "      <td>2023</td>\n",
       "      <td>221</td>\n",
       "    </tr>\n",
       "    <tr>\n",
       "      <th>18954</th>\n",
       "      <td>Linear Regression on Manifold Structured Data:...</td>\n",
       "      <td>Liangchen Liu, Juncai He, Yen-Hsi Tsai</td>\n",
       "      <td>Topological</td>\n",
       "      <td>2023</td>\n",
       "      <td>221</td>\n",
       "    </tr>\n",
       "  </tbody>\n",
       "</table>\n",
       "<p>18955 rows × 5 columns</p>\n",
       "</div>"
      ],
      "text/plain": [
       "                                                   title  \\\n",
       "0      Gaussian Process Approximations of Stochastic ...   \n",
       "1      Multi-class Semi-supervised Learning with the ...   \n",
       "2                 Learning RoboCup-Keepaway with Kernels   \n",
       "3      Salient Point and Scale Detection by Minimum L...   \n",
       "4      Sparse Log Gaussian Processes via MCMC for Spa...   \n",
       "...                                                  ...   \n",
       "18950  Fisher-Rao and pullback Hilbert cone distances...   \n",
       "18951  On Explicit Curvature Regularization in Deep G...   \n",
       "18952  MASIL: Towards Maximum Separable Class Represe...   \n",
       "18953                      Topological Feature Selection   \n",
       "18954  Linear Regression on Manifold Structured Data:...   \n",
       "\n",
       "                                                 authors  \\\n",
       "0      Cedric Archambeau, Dan Cornford, Manfred Opper...   \n",
       "1                            Simon Rogers, Mark Girolami   \n",
       "2                             Tobias Jung, Daniel Polani   \n",
       "3              Kim S. Pedersen, Marco Loog, Pieter Dorst   \n",
       "4                           Jarno Vanhatalo, Aki Vehtari   \n",
       "...                                                  ...   \n",
       "18950                                      Frank Nielsen   \n",
       "18951                       Yonghyeon Lee, Frank C. Park   \n",
       "18952                                   Anant Khandelwal   \n",
       "18953                        Antonio Briola, Tomaso Aste   \n",
       "18954             Liangchen Liu, Juncai He, Yen-Hsi Tsai   \n",
       "\n",
       "                      conference_main  year volume  \n",
       "0      Gaussian Processes in Practice  2006      1  \n",
       "1      Gaussian Processes in Practice  2006      1  \n",
       "2      Gaussian Processes in Practice  2006      1  \n",
       "3      Gaussian Processes in Practice  2006      1  \n",
       "4      Gaussian Processes in Practice  2006      1  \n",
       "...                               ...   ...    ...  \n",
       "18950                     Topological  2023    221  \n",
       "18951                     Topological  2023    221  \n",
       "18952                     Topological  2023    221  \n",
       "18953                     Topological  2023    221  \n",
       "18954                     Topological  2023    221  \n",
       "\n",
       "[18955 rows x 5 columns]"
      ]
     },
     "execution_count": 126,
     "metadata": {},
     "output_type": "execute_result"
    }
   ],
   "source": [
    "df[['title', 'authors', 'conference_main', 'year', 'volume']]"
   ]
  },
  {
   "cell_type": "code",
   "execution_count": null,
   "id": "0cf203c2-2e90-4214-a805-71d96fb0c236",
   "metadata": {},
   "outputs": [],
   "source": []
  },
  {
   "cell_type": "code",
   "execution_count": null,
   "id": "22503609-8901-4e96-b3c0-df4a1a3da9e7",
   "metadata": {},
   "outputs": [],
   "source": []
  },
  {
   "cell_type": "code",
   "execution_count": null,
   "id": "fd1d289f-133e-4361-83d1-a83b25ca4396",
   "metadata": {},
   "outputs": [],
   "source": []
  }
 ],
 "metadata": {
  "kernelspec": {
   "display_name": "Python 3 (ipykernel)",
   "language": "python",
   "name": "python3"
  },
  "language_info": {
   "codemirror_mode": {
    "name": "ipython",
    "version": 3
   },
   "file_extension": ".py",
   "mimetype": "text/x-python",
   "name": "python",
   "nbconvert_exporter": "python",
   "pygments_lexer": "ipython3",
   "version": "3.10.10"
  }
 },
 "nbformat": 4,
 "nbformat_minor": 5
}
